{
 "cells": [
  {
   "cell_type": "code",
   "execution_count": 10,
   "id": "67629137-0c2f-42d1-9532-c376d1fd8c07",
   "metadata": {},
   "outputs": [
    {
     "name": "stdout",
     "output_type": "stream",
     "text": [
      "HELLO PYTHON\n",
      "hello python\n",
      "['Hello', 'Python']\n",
      "Hello World\n",
      "6\n",
      "False\n",
      "True\n"
     ]
    }
   ],
   "source": [
    "s = \"Hello Python\"\n",
    "\n",
    "print(s.upper())       # HELLO PYTHON\n",
    "print(s.lower())       # hello python\n",
    "print(s.split())       # ['Hello', 'Python']\n",
    "print(s.replace('Python', 'World'))  # Hello World\n",
    "print(s.find('Py'))    # 6\n",
    "print(s.isdigit())     # False\n",
    "print('123'.isdigit()) # True"
   ]
  },
  {
   "cell_type": "code",
   "execution_count": 12,
   "id": "2f2f52c1-9435-4b42-9f15-eb3c4f35a69b",
   "metadata": {},
   "outputs": [
    {
     "name": "stdout",
     "output_type": "stream",
     "text": [
      "5\n",
      "3.14\n",
      "4.0\n",
      "8.0\n",
      "3.141592653589793\n"
     ]
    }
   ],
   "source": [
    "import math\n",
    "\n",
    "print(abs(-5))          # 5\n",
    "print(round(3.14159, 2)) # 3.14\n",
    "print(math.sqrt(16))    # 4.0\n",
    "print(math.pow(2, 3))   # 8.0\n",
    "print(math.pi)          # 3.141592653589793"
   ]
  },
  {
   "cell_type": "code",
   "execution_count": 14,
   "id": "fa0d371d-9693-432b-91de-65115b278a5a",
   "metadata": {},
   "outputs": [
    {
     "name": "stdout",
     "output_type": "stream",
     "text": [
      "2025-06-20 13:19:01.553524\n",
      "2023-05-15\n",
      "2025-06-20 13:19:01\n",
      "2025-06-21 13:19:01.553524\n"
     ]
    }
   ],
   "source": [
    "from datetime import datetime, date, timedelta\n",
    "\n",
    "# Current date and time\n",
    "now = datetime.now()\n",
    "print(now)\n",
    "\n",
    "# Specific date\n",
    "d = date(2023, 5, 15)\n",
    "print(d)\n",
    "\n",
    "# Formatting\n",
    "print(now.strftime(\"%Y-%m-%d %H:%M:%S\"))\n",
    "\n",
    "# Time delta\n",
    "tomorrow = now + timedelta(days=1)\n",
    "print(tomorrow)"
   ]
  },
  {
   "cell_type": "code",
   "execution_count": 16,
   "id": "f9809319-4ce0-4bd3-a39f-d4d23479a212",
   "metadata": {},
   "outputs": [
    {
     "name": "stdout",
     "output_type": "stream",
     "text": [
      "Hello, Alice!\n",
      "Hi, Bob!\n",
      "9\n",
      "27\n",
      "Alice, 25, from New York\n",
      "10\n",
      "25\n"
     ]
    }
   ],
   "source": [
    "# Function definition\n",
    "def greet(name, message=\"Hello\"):\n",
    "    \"\"\"This function greets the person passed in\"\"\"\n",
    "    return f\"{message}, {name}!\"\n",
    "\n",
    "# Function call\n",
    "print(greet(\"Alice\"))\n",
    "print(greet(\"Bob\", \"Hi\"))\n",
    "\n",
    "# Default Argument Values\n",
    "def power(x, n=2):\n",
    "    return x ** n\n",
    "\n",
    "print(power(3))    # 9\n",
    "print(power(3, 3)) # 27\n",
    "\n",
    "# Keyword Arguments\n",
    "def person_info(name, age, city):\n",
    "    print(f\"{name}, {age}, from {city}\")\n",
    "\n",
    "person_info(age=25, city=\"New York\", name=\"Alice\")\n",
    "\n",
    "# Arbitrary Argument Lists\n",
    "def sum_all(*args):\n",
    "    return sum(args)\n",
    "\n",
    "print(sum_all(1, 2, 3, 4))  # 10\n",
    "\n",
    "# Lambda Expressions\n",
    "square = lambda x: x * x\n",
    "print(square(5))  # 25\n",
    "\n",
    "# Using lambda with map\n",
    "numbers = [1, 2, 3, 4]\n",
    "squared = list(map(lambda x: x**2, numbers))"
   ]
  },
  {
   "cell_type": "code",
   "execution_count": null,
   "id": "ede4a170-5f81-43c4-9a52-faa19669fa52",
   "metadata": {},
   "outputs": [],
   "source": []
  },
  {
   "cell_type": "code",
   "execution_count": null,
   "id": "4fbc6f62-bacb-423c-8818-2e2f027585d4",
   "metadata": {},
   "outputs": [],
   "source": []
  },
  {
   "cell_type": "code",
   "execution_count": null,
   "id": "48f94da7-1726-4cf4-9da2-58754788dd53",
   "metadata": {},
   "outputs": [],
   "source": []
  },
  {
   "cell_type": "code",
   "execution_count": null,
   "id": "dedf4dc2-d14e-4e67-830f-5f419cfe01dd",
   "metadata": {},
   "outputs": [],
   "source": []
  },
  {
   "cell_type": "code",
   "execution_count": null,
   "id": "3bf84c36-6b7d-4a8d-9ce9-e59359a05da2",
   "metadata": {},
   "outputs": [],
   "source": []
  },
  {
   "cell_type": "code",
   "execution_count": null,
   "id": "6212ad65-2441-405b-a57c-2deb27df1e91",
   "metadata": {},
   "outputs": [],
   "source": []
  }
 ],
 "metadata": {
  "kernelspec": {
   "display_name": "Python [conda env:base] *",
   "language": "python",
   "name": "conda-base-py"
  },
  "language_info": {
   "codemirror_mode": {
    "name": "ipython",
    "version": 3
   },
   "file_extension": ".py",
   "mimetype": "text/x-python",
   "name": "python",
   "nbconvert_exporter": "python",
   "pygments_lexer": "ipython3",
   "version": "3.11.7"
  }
 },
 "nbformat": 4,
 "nbformat_minor": 5
}
