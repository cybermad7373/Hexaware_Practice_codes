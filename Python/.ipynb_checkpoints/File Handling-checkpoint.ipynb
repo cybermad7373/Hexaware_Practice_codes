{
 "cells": [
  {
   "cell_type": "code",
   "execution_count": 1,
   "id": "3ddcb18e-8f45-45fc-b8a6-ff9a6d508323",
   "metadata": {},
   "outputs": [
    {
     "name": "stdout",
     "output_type": "stream",
     "text": [
      "Hello, World!\n",
      "This is a text file.\n",
      "\n",
      "Hello, World!\n",
      "This is a text file.\n"
     ]
    }
   ],
   "source": [
    "# Writing to a file\n",
    "with open('example.txt', 'w') as f:\n",
    "    f.write(\"Hello, World!\\n\")\n",
    "    f.write(\"This is a text file.\\n\")\n",
    "\n",
    "# Reading from a file\n",
    "with open('example.txt', 'r') as f:\n",
    "    content = f.read()\n",
    "    print(content)\n",
    "\n",
    "# Reading line by line\n",
    "with open('example.txt', 'r') as f:\n",
    "    for line in f:\n",
    "        print(line.strip())"
   ]
  },
  {
   "cell_type": "code",
   "execution_count": null,
   "id": "5c184120-685a-43e3-8c0e-747fd927ade4",
   "metadata": {},
   "outputs": [],
   "source": [
    "# Writing binary data\n",
    "data = bytes(range(256))\n",
    "with open('binary.bin', 'wb') as f:\n",
    "    f.write(data)\n",
    "\n",
    "# Reading binary data\n",
    "with open('binary.bin', 'rb') as f:\n",
    "    binary_content = f.read()\n",
    "    print(binary_content[:10])  # First 10 bytes"
   ]
  },
  {
   "cell_type": "code",
   "execution_count": null,
   "id": "f74efc67-4353-454c-943c-a2004a51a1aa",
   "metadata": {},
   "outputs": [],
   "source": []
  },
  {
   "cell_type": "code",
   "execution_count": null,
   "id": "58969994-e7c2-46be-b213-5b23be61c07c",
   "metadata": {},
   "outputs": [],
   "source": []
  }
 ],
 "metadata": {
  "kernelspec": {
   "display_name": "Python [conda env:base] *",
   "language": "python",
   "name": "conda-base-py"
  },
  "language_info": {
   "codemirror_mode": {
    "name": "ipython",
    "version": 3
   },
   "file_extension": ".py",
   "mimetype": "text/x-python",
   "name": "python",
   "nbconvert_exporter": "python",
   "pygments_lexer": "ipython3",
   "version": "3.11.7"
  }
 },
 "nbformat": 4,
 "nbformat_minor": 5
}
