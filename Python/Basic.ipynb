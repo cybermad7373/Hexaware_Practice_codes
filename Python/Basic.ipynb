{
 "cells": [
  {
   "cell_type": "code",
   "execution_count": 1,
   "id": "b794c061-d0e1-4361-972f-ad05cd029454",
   "metadata": {},
   "outputs": [
    {
     "name": "stdout",
     "output_type": "stream",
     "text": [
      "Hello, World!\n"
     ]
    }
   ],
   "source": [
    "print(\"Hello, World!\")"
   ]
  },
  {
   "cell_type": "code",
   "execution_count": 11,
   "id": "50ff6e56-21fb-4dea-98e7-6fef63cbfb97",
   "metadata": {},
   "outputs": [
    {
     "name": "stdout",
     "output_type": "stream",
     "text": [
      "['False', 'None', 'True', 'and', 'as', 'assert', 'async', 'await', 'break', 'class', 'continue', 'def', 'del', 'elif', 'else', 'except', 'finally', 'for', 'from', 'global', 'if', 'import', 'in', 'is', 'lambda', 'nonlocal', 'not', 'or', 'pass', 'raise', 'return', 'try', 'while', 'with', 'yield']\n"
     ]
    }
   ],
   "source": [
    "# Keywords are reserved words in Python\n",
    "import keyword\n",
    "print(keyword.kwlist)  # Prints all Python keywords\n",
    "\n",
    "valid_variable = 10 \n",
    "_internal_value = 20  "
   ]
  },
  {
   "cell_type": "code",
   "execution_count": 13,
   "id": "5dcc5388-b0a9-495e-8eb1-96211ec41479",
   "metadata": {},
   "outputs": [
    {
     "name": "stdout",
     "output_type": "stream",
     "text": [
      "8.14\n",
      "1.8599999999999999\n",
      "15.700000000000001\n",
      "1.592356687898089\n",
      "1.8599999999999999\n",
      "25\n",
      "False\n",
      "True\n",
      "True\n",
      "False\n",
      "True\n",
      "True\n",
      "False\n"
     ]
    }
   ],
   "source": [
    "# Variables\n",
    "x = 5\n",
    "y = 3.14\n",
    "name = \"Alice\"\n",
    "\n",
    "# Arithmetic Operators\n",
    "print(x + y)  # Addition\n",
    "print(x - y)  # Subtraction\n",
    "print(x * y)  # Multiplication\n",
    "print(x / y)  # Division\n",
    "print(x % y)  # Modulus\n",
    "print(x ** 2) # Exponentiation\n",
    "\n",
    "# Comparison Operators\n",
    "print(x == y)  # Equal\n",
    "print(x != y)  # Not equal\n",
    "print(x > y)   # Greater than\n",
    "print(x < y)   # Less than\n",
    "\n",
    "# Logical Operators\n",
    "print(x > 0 and y < 10)  # AND\n",
    "print(x > 0 or y > 10)   # OR\n",
    "print(not(x > 0))        # NOT"
   ]
  },
  {
   "cell_type": "code",
   "execution_count": 15,
   "id": "2dfcbd38-3d65-47d2-b428-a1dcc926ad4c",
   "metadata": {},
   "outputs": [
    {
     "name": "stdout",
     "output_type": "stream",
     "text": [
      "<class 'int'> <class 'float'> <class 'complex'>\n"
     ]
    }
   ],
   "source": [
    "# Integer\n",
    "a = 10\n",
    "# Float\n",
    "b = 3.14\n",
    "# Complex\n",
    "c = 2 + 3j\n",
    "\n",
    "print(type(a), type(b), type(c))"
   ]
  },
  {
   "cell_type": "code",
   "execution_count": 17,
   "id": "71f0ac19-cc4b-4f87-891d-361a3fad52d9",
   "metadata": {},
   "outputs": [
    {
     "name": "stdout",
     "output_type": "stream",
     "text": [
      "H [2, 3] four\n"
     ]
    }
   ],
   "source": [
    "# String\n",
    "s = \"Hello Python\"\n",
    "# List\n",
    "l = [1, 2, 3, \"four\"]\n",
    "# Tuple\n",
    "t = (1, 2, 3, \"four\")\n",
    "\n",
    "print(s[0], l[1:3], t[-1])"
   ]
  },
  {
   "cell_type": "code",
   "execution_count": 19,
   "id": "dd5e8382-0b30-4112-9be7-f27943d1d02d",
   "metadata": {},
   "outputs": [
    {
     "name": "stdout",
     "output_type": "stream",
     "text": [
      "False\n",
      "True\n",
      "False\n"
     ]
    }
   ],
   "source": [
    "t = True\n",
    "f = False\n",
    "\n",
    "print(t and f)  # False\n",
    "print(t or f)   # True\n",
    "print(not t)    # False"
   ]
  },
  {
   "cell_type": "code",
   "execution_count": null,
   "id": "627b506a-1b83-48a1-ae03-20a3832523ef",
   "metadata": {},
   "outputs": [],
   "source": []
  },
  {
   "cell_type": "code",
   "execution_count": null,
   "id": "1b6205d7-d423-4147-a910-259ae5408221",
   "metadata": {},
   "outputs": [],
   "source": []
  },
  {
   "cell_type": "code",
   "execution_count": null,
   "id": "bcb2bb4d-38a2-4204-9aa8-5d1375d3576f",
   "metadata": {},
   "outputs": [],
   "source": []
  },
  {
   "cell_type": "code",
   "execution_count": null,
   "id": "dbdbd44a-17bd-40d9-9c47-14984cf7c840",
   "metadata": {},
   "outputs": [],
   "source": []
  },
  {
   "cell_type": "code",
   "execution_count": null,
   "id": "e642e4e5-4132-4703-a70b-830e885fa48a",
   "metadata": {},
   "outputs": [],
   "source": []
  },
  {
   "cell_type": "code",
   "execution_count": null,
   "id": "f4e42265-dc8d-4076-8eff-62fa31c92087",
   "metadata": {},
   "outputs": [],
   "source": []
  },
  {
   "cell_type": "code",
   "execution_count": null,
   "id": "7829a179-1be0-449b-99b6-f143764ae639",
   "metadata": {},
   "outputs": [],
   "source": []
  }
 ],
 "metadata": {
  "kernelspec": {
   "display_name": "Python [conda env:base] *",
   "language": "python",
   "name": "conda-base-py"
  },
  "language_info": {
   "codemirror_mode": {
    "name": "ipython",
    "version": 3
   },
   "file_extension": ".py",
   "mimetype": "text/x-python",
   "name": "python",
   "nbconvert_exporter": "python",
   "pygments_lexer": "ipython3",
   "version": "3.11.7"
  }
 },
 "nbformat": 4,
 "nbformat_minor": 5
}
