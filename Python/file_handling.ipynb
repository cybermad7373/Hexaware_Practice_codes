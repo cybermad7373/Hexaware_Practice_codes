{
 "cells": [
  {
   "cell_type": "markdown",
   "id": "73847510-fa64-4782-a247-9332384dcf85",
   "metadata": {},
   "source": [
    "### File Detection"
   ]
  },
  {
   "cell_type": "code",
   "execution_count": 2,
   "id": "6ee9b216-a356-4729-9406-d2e090089ff8",
   "metadata": {},
   "outputs": [],
   "source": [
    "import os"
   ]
  },
  {
   "cell_type": "code",
   "execution_count": 3,
   "id": "890674c1-21f8-473c-ada9-e0e0ff6b4780",
   "metadata": {},
   "outputs": [
    {
     "name": "stdout",
     "output_type": "stream",
     "text": [
      "The file is present\n"
     ]
    }
   ],
   "source": [
    "# file_path = \"file.txt\"\n",
    "file_path = \"D:\\AIML\"\n",
    "if os.path.exists(file_path):\n",
    "    print(\"The file is present\")\n",
    "else :\n",
    "    print(\"The file didnt Exist\")"
   ]
  },
  {
   "cell_type": "code",
   "execution_count": 4,
   "id": "ada3581d-b366-43da-8b7e-42466ee11ca0",
   "metadata": {},
   "outputs": [
    {
     "name": "stdout",
     "output_type": "stream",
     "text": [
      "It is directory\n"
     ]
    }
   ],
   "source": [
    "if os.path.isfile(file_path):\n",
    "    print(\"It is file\")\n",
    "elif os.path.isdir(file_path):\n",
    "    print(\"It is directory\")\n",
    "else:\n",
    "    print(\"Dosent exist\")"
   ]
  },
  {
   "cell_type": "markdown",
   "id": "87eedcda-7dcf-429b-9ce1-d810d6343b9a",
   "metadata": {},
   "source": [
    "###  reading (\"r\"), writing (\"w\"), appending (\"a\"), reading and writing (\"r+\")\n"
   ]
  },
  {
   "cell_type": "markdown",
   "id": "01407cfe-5ad2-4d07-9379-d77ab17893dc",
   "metadata": {},
   "source": [
    "### Writing File"
   ]
  },
  {
   "cell_type": "code",
   "execution_count": 7,
   "id": "b5d398b2-ccac-42ce-b0c3-51a8ecb1ebe1",
   "metadata": {},
   "outputs": [
    {
     "name": "stdout",
     "output_type": "stream",
     "text": [
      "File was created\n"
     ]
    }
   ],
   "source": [
    "#.txt\n",
    "\n",
    "txt_data = \"I am Ruthra\"\n",
    "\n",
    "tfile_path = r\"data/output.txt\"\n",
    "try : \n",
    "    with open(tfile_path,'w') as file:\n",
    "        file.write(txt_data+\"\\n\")\n",
    "        print(\"File was created\")\n",
    "except FileExistsError:\n",
    "    print(\"File not found\")"
   ]
  },
  {
   "cell_type": "code",
   "execution_count": 8,
   "id": "f439bd4f-d04f-41ef-9395-1db34843aad0",
   "metadata": {},
   "outputs": [
    {
     "name": "stdout",
     "output_type": "stream",
     "text": [
      "Done\n"
     ]
    }
   ],
   "source": [
    "emp = [\"Arun\",\"Ram\",\"Krish\",\"Anil\"]\n",
    "with open(r\"data/employee.txt\",'w') as f:\n",
    "    for i in emp:\n",
    "        f.write(i+\"\\n\")\n",
    "    print(\"Done\")"
   ]
  },
  {
   "cell_type": "code",
   "execution_count": 9,
   "id": "93d3078f-5fe1-4a89-b11d-bf9656cd4f8f",
   "metadata": {},
   "outputs": [
    {
     "name": "stdout",
     "output_type": "stream",
     "text": [
      "File was created\n"
     ]
    }
   ],
   "source": [
    "# json\n",
    "import json\n",
    "\n",
    "employee = {\n",
    "    \"name\" : \"Ruthra\",\n",
    "    \"age\":21,\n",
    "    \"job\":\"AIML Engineer\"\n",
    "} \n",
    "\n",
    "json_data = \"I am Ruthra\"\n",
    "\n",
    "jfile_path = r\"data/output.json\"\n",
    "try : \n",
    "    with open(jfile_path,'w') as file:\n",
    "        json.dump(employee,file,indent = 4)\n",
    "        print(\"File was created\")\n",
    "except FileExistsError:\n",
    "    print(\"File not found\")"
   ]
  },
  {
   "cell_type": "code",
   "execution_count": 10,
   "id": "0c72b5f5-cd4f-49d1-82b6-dbc3a31a2fe2",
   "metadata": {},
   "outputs": [
    {
     "ename": "NameError",
     "evalue": "name 'cfile_path' is not defined",
     "output_type": "error",
     "traceback": [
      "\u001b[1;31m---------------------------------------------------------------------------\u001b[0m",
      "\u001b[1;31mNameError\u001b[0m                                 Traceback (most recent call last)",
      "Cell \u001b[1;32mIn[10], line 11\u001b[0m\n\u001b[0;32m      4\u001b[0m students \u001b[38;5;241m=\u001b[39m [[\u001b[38;5;124m\"\u001b[39m\u001b[38;5;124mName\u001b[39m\u001b[38;5;124m\"\u001b[39m, \u001b[38;5;124m\"\u001b[39m\u001b[38;5;124mage\u001b[39m\u001b[38;5;124m\"\u001b[39m,\u001b[38;5;124m\"\u001b[39m\u001b[38;5;124mgender\u001b[39m\u001b[38;5;124m\"\u001b[39m],\n\u001b[0;32m      5\u001b[0m            [\u001b[38;5;124m\"\u001b[39m\u001b[38;5;124mRuthra\u001b[39m\u001b[38;5;124m\"\u001b[39m,\u001b[38;5;241m21\u001b[39m,\u001b[38;5;124m\"\u001b[39m\u001b[38;5;124mmale\u001b[39m\u001b[38;5;124m\"\u001b[39m],\n\u001b[0;32m      6\u001b[0m            [\u001b[38;5;124m\"\u001b[39m\u001b[38;5;124mRam\u001b[39m\u001b[38;5;124m\"\u001b[39m,\u001b[38;5;241m23\u001b[39m,\u001b[38;5;124m\"\u001b[39m\u001b[38;5;124mmale\u001b[39m\u001b[38;5;124m\"\u001b[39m],\n\u001b[0;32m      7\u001b[0m            [\u001b[38;5;124m\"\u001b[39m\u001b[38;5;124mAnu\u001b[39m\u001b[38;5;124m\"\u001b[39m,\u001b[38;5;241m25\u001b[39m,\u001b[38;5;124m\"\u001b[39m\u001b[38;5;124mfemale\u001b[39m\u001b[38;5;124m\"\u001b[39m],\n\u001b[0;32m      8\u001b[0m            [\u001b[38;5;124m\"\u001b[39m\u001b[38;5;124mUma\u001b[39m\u001b[38;5;124m\"\u001b[39m,\u001b[38;5;241m35\u001b[39m,\u001b[38;5;124m\"\u001b[39m\u001b[38;5;124mfemale\u001b[39m\u001b[38;5;124m\"\u001b[39m]]\n\u001b[0;32m     10\u001b[0m \u001b[38;5;28;01mtry\u001b[39;00m : \n\u001b[1;32m---> 11\u001b[0m     \u001b[38;5;28;01mwith\u001b[39;00m \u001b[38;5;28mopen\u001b[39m(cfile_path,\u001b[38;5;124m'\u001b[39m\u001b[38;5;124mw\u001b[39m\u001b[38;5;124m'\u001b[39m,newline \u001b[38;5;241m=\u001b[39m\u001b[38;5;124m\"\u001b[39m\u001b[38;5;124m\"\u001b[39m) \u001b[38;5;28;01mas\u001b[39;00m file:\n\u001b[0;32m     12\u001b[0m         writer \u001b[38;5;241m=\u001b[39m csv\u001b[38;5;241m.\u001b[39mwriter(file)\n\u001b[0;32m     13\u001b[0m         \u001b[38;5;28;01mfor\u001b[39;00m i \u001b[38;5;129;01min\u001b[39;00m students:\n",
      "\u001b[1;31mNameError\u001b[0m: name 'cfile_path' is not defined"
     ]
    }
   ],
   "source": [
    "#csv\n",
    "import csv\n",
    "\n",
    "students = [[\"Name\", \"age\",\"gender\"],\n",
    "           [\"Ruthra\",21,\"male\"],\n",
    "           [\"Ram\",23,\"male\"],\n",
    "           [\"Anu\",25,\"female\"],\n",
    "           [\"Uma\",35,\"female\"]]\n",
    "\n",
    "try : \n",
    "    with open(cfile_path,'w',newline =\"\") as file:\n",
    "        writer = csv.writer(file)\n",
    "        for i in students:\n",
    "            writer.writerow(i)\n",
    "        print(\"File was created\")\n",
    "except FileExistsError:\n",
    "    print(\"File not found\")"
   ]
  },
  {
   "cell_type": "markdown",
   "id": "7ba244e0-5235-4ee5-889f-15f837cdb73f",
   "metadata": {},
   "source": [
    "### Reading file"
   ]
  },
  {
   "cell_type": "code",
   "execution_count": null,
   "id": "8f02ee2b-b3be-43d9-950b-d5c8f36e2552",
   "metadata": {},
   "outputs": [],
   "source": [
    "#text data\n",
    "tr_path = r\"data/file.txt\"\n",
    "\n",
    "try:\n",
    "    with open(tr_path,'r') as file:\n",
    "        cnt = file.read()\n",
    "        print(cnt)\n",
    "except FileExistsError:\n",
    "    print(\"File not found\")\n",
    "except PermissionError:\n",
    "    print(\"You don't have permission to access\")"
   ]
  },
  {
   "cell_type": "code",
   "execution_count": null,
   "id": "3fab923e-4a81-426c-88a1-e3840524de3b",
   "metadata": {},
   "outputs": [],
   "source": [
    "#json data\n",
    "import json\n",
    "\n",
    "jr_path = r\"data/file.json\"\n",
    "\n",
    "try:\n",
    "    with open(jr_path,'r') as file:\n",
    "        cnt = json.load(file)\n",
    "        print(cnt)\n",
    "        print(\"\\n\\n\")\n",
    "        print(cnt[\"quiz\"])\n",
    "        print(\"\\n\\n\")\n",
    "        print(cnt[\"quiz\"][\"maths\"])\n",
    "        print(\"\\n\\n\")\n",
    "        print(cnt[\"quiz\"][\"maths\"][\"q1\"])\n",
    "except FileExistsError:\n",
    "    print(\"File not found\")\n",
    "except PermissionError:\n",
    "    print(\"You don't have permission to access\")"
   ]
  },
  {
   "cell_type": "code",
   "execution_count": null,
   "id": "3162fdac-ce99-4c4f-b89c-78573207dccc",
   "metadata": {},
   "outputs": [],
   "source": [
    "#csv data\n",
    "import csv\n",
    "\n",
    "cr_path = r\"data/file.csv\"\n",
    "\n",
    "try:\n",
    "    with open(cr_path,'r') as file:\n",
    "        cnt = csv.reader(file)\n",
    "        for line in cnt : \n",
    "            pass\n",
    "            # print(line)\n",
    "            # print(line[0])  # only names           \n",
    "        print(type(cnt))\n",
    "except FileExistsError:\n",
    "    print(\"File not found\")\n",
    "except PermissionError:\n",
    "    print(\"You don't have permission to access\")"
   ]
  },
  {
   "cell_type": "markdown",
   "id": "1422184e-a64a-4d98-bf70-5aab126c9548",
   "metadata": {},
   "source": [
    "#### other ways"
   ]
  },
  {
   "cell_type": "code",
   "execution_count": null,
   "id": "1bfb2d12-2c25-47c9-863f-e87c89038a8a",
   "metadata": {},
   "outputs": [],
   "source": [
    "f1 = open(r\"data/file.txt\",'r')\n",
    "data = f1.read()\n",
    "print(data)"
   ]
  },
  {
   "cell_type": "code",
   "execution_count": null,
   "id": "9b6aff39-d3d5-4e45-815d-af596ac5e05a",
   "metadata": {},
   "outputs": [],
   "source": [
    "f2 = open(r\"data/file.json\",'r')\n",
    "data = f2.read()\n",
    "print(data)"
   ]
  },
  {
   "cell_type": "code",
   "execution_count": null,
   "id": "a06a6dd5-ff43-4c7c-b2a7-cd7e080b7ed1",
   "metadata": {},
   "outputs": [],
   "source": [
    "f3 = open(r\"data/file.csv\",'r')\n",
    "data = f3.read()\n",
    "print(data)"
   ]
  },
  {
   "cell_type": "code",
   "execution_count": null,
   "id": "ec988e05-304a-4697-ab05-5ff3d3fff5f3",
   "metadata": {},
   "outputs": [],
   "source": []
  }
 ],
 "metadata": {
  "kernelspec": {
   "display_name": "Python [conda env:base] *",
   "language": "python",
   "name": "conda-base-py"
  },
  "language_info": {
   "codemirror_mode": {
    "name": "ipython",
    "version": 3
   },
   "file_extension": ".py",
   "mimetype": "text/x-python",
   "name": "python",
   "nbconvert_exporter": "python",
   "pygments_lexer": "ipython3",
   "version": "3.11.7"
  }
 },
 "nbformat": 4,
 "nbformat_minor": 5
}
