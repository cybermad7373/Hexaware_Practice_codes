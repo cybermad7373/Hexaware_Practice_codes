{
 "cells": [
  {
   "cell_type": "code",
   "execution_count": 52,
   "id": "1c37222c-8a3b-4828-98db-eaa77e89b389",
   "metadata": {},
   "outputs": [
    {
     "name": "stdout",
     "output_type": "stream",
     "text": [
      "['apple', 'banana', 'DFfddF', 'Dfdfdfd', 'qewqe', 'cherry']\n"
     ]
    },
    {
     "data": {
      "text/plain": [
       "'cherry'"
      ]
     },
     "execution_count": 52,
     "metadata": {},
     "output_type": "execute_result"
    }
   ],
   "source": [
    "# list\n",
    "fruits = [\"apple\", \"banana\",\"DFfddF\",\"Dfdfdfd\",\"qewqe\"]\n",
    "fruits.append(\"cherry\")\n",
    "print(fruits)\n",
    "fruits.pop()"
   ]
  },
  {
   "cell_type": "code",
   "execution_count": 19,
   "id": "5283eff1-0713-4995-b110-044d62230e6d",
   "metadata": {},
   "outputs": [
    {
     "name": "stdout",
     "output_type": "stream",
     "text": [
      "Ruthra\n"
     ]
    }
   ],
   "source": [
    "#dictionary\n",
    "person = {\"name\": \"Ruthra\", \"age\": 21}\n",
    "print(person[\"name\"])\n"
   ]
  },
  {
   "cell_type": "code",
   "execution_count": 21,
   "id": "fee157a5-fe62-42d3-bd19-202d1e9f0375",
   "metadata": {},
   "outputs": [
    {
     "name": "stdout",
     "output_type": "stream",
     "text": [
      "{1, 2, 3, 4}\n"
     ]
    }
   ],
   "source": [
    "#set\n",
    "s = {1, 2, 3, 4, 4}\n",
    "print(s)  "
   ]
  },
  {
   "cell_type": "code",
   "execution_count": 23,
   "id": "0270783a-548a-456f-8364-f591b16a22dd",
   "metadata": {},
   "outputs": [
    {
     "name": "stdout",
     "output_type": "stream",
     "text": [
      "10\n"
     ]
    }
   ],
   "source": [
    "#list\n",
    "coords = (10, 20)\n",
    "print(coords[0])"
   ]
  },
  {
   "cell_type": "code",
   "execution_count": 24,
   "id": "cd984a84-d347-4f6c-b13e-3de058c4c94b",
   "metadata": {},
   "outputs": [
    {
     "name": "stdout",
     "output_type": "stream",
     "text": [
      "2\n"
     ]
    }
   ],
   "source": [
    "#  Stack (Using List)\n",
    "stack = []\n",
    "stack.append(1)\n",
    "stack.append(2)\n",
    "print(stack.pop())  # 2\n"
   ]
  },
  {
   "cell_type": "code",
   "execution_count": 26,
   "id": "75de8113-4dc6-44dd-88ef-8c8bb0675e39",
   "metadata": {},
   "outputs": [
    {
     "name": "stdout",
     "output_type": "stream",
     "text": [
      "deque([2, 3, 4])\n"
     ]
    }
   ],
   "source": [
    "# Queue (Using collections.deque)\n",
    "from collections import deque\n",
    "queue = deque([1, 2, 3])\n",
    "queue.append(4)\n",
    "queue.popleft()\n",
    "print(queue)\n"
   ]
  },
  {
   "cell_type": "code",
   "execution_count": 27,
   "id": "61b8804d-c5de-4899-97a5-84e563443eee",
   "metadata": {},
   "outputs": [],
   "source": [
    "# Linked List (Manual Implementation)\n",
    "class Node:\n",
    "    def __init__(self, data):\n",
    "        self.data = data\n",
    "        self.next = None\n"
   ]
  },
  {
   "cell_type": "code",
   "execution_count": 29,
   "id": "09e44ec8-e718-4f23-a9e7-13498eddfc63",
   "metadata": {},
   "outputs": [
    {
     "name": "stdout",
     "output_type": "stream",
     "text": [
      "1\n"
     ]
    }
   ],
   "source": [
    "#  Heap / Priority Queue\n",
    "import heapq\n",
    "nums = []\n",
    "heapq.heappush(nums, 3)\n",
    "heapq.heappush(nums, 1)\n",
    "print(heapq.heappop(nums))  # 1\n"
   ]
  },
  {
   "cell_type": "markdown",
   "id": "00095b03-fee5-4096-9a6e-54bdd6698c4b",
   "metadata": {},
   "source": [
    "tree structure:\n",
    "        10\r\n",
    "       /  \\\r\n",
    "     20    30\r\n",
    "    /  \\\r\n",
    "   40  50\r\n"
   ]
  },
  {
   "cell_type": "code",
   "execution_count": null,
   "id": "f2bf7588-be06-47f3-a009-efb4b813f592",
   "metadata": {},
   "outputs": [],
   "source": [
    "class Node:\n",
    "    def __init__(self, value):\n",
    "        self.data = value\n",
    "        self.left = None\n",
    "        self.right = None\n",
    "\n",
    "# Create nodes\n",
    "root = Node(10)\n",
    "root.left = Node(20)\n",
    "root.right = Node(30)\n",
    "root.left.left = Node(40)\n",
    "root.left.right = Node(50)\n",
    "\n",
    "def inorder(node):\n",
    "    if node:\n",
    "        inorder(node.left)\n",
    "        print(node.data, end=\" \")\n",
    "        inorder(node.right)\n",
    "        \n",
    "def preorder(node):\n",
    "    if node:\n",
    "        print(node.data, end=\" \")\n",
    "        preorder(node.left)\n",
    "        preorder(node.right)\n",
    "\n",
    "def postorder(node):\n",
    "    if node:\n",
    "        postorder(node.left)\n",
    "        postorder(node.right)\n",
    "        print(node.data, end=\" \")\n",
    "\n",
    "print(\"Inorder Traversal:\")\n",
    "inorder(root)  "
   ]
  },
  {
   "cell_type": "markdown",
   "id": "3ff97f20-d886-432e-8239-73d99e0f3ad2",
   "metadata": {},
   "source": [
    "graph structure:\n",
    "A --- B\n",
    "|     |\n",
    "C --- D\n"
   ]
  },
  {
   "cell_type": "code",
   "execution_count": null,
   "id": "e3ed8a34-c9e3-4cee-96aa-7352dfe7b984",
   "metadata": {},
   "outputs": [],
   "source": [
    "class Graph:\n",
    "    def __init__(self):\n",
    "        self.adj = {}  # dictionary: vertex -> list of neighbors\n",
    "\n",
    "    def add_edge(self, u, v):\n",
    "        self.adj.setdefault(u, []).append(v)\n",
    "        self.adj.setdefault(v, []).append(u)  # undirected\n",
    "\n",
    "    def print_graph(self):\n",
    "        for node in self.adj:\n",
    "            print(f\"{node} -> {self.adj[node]}\")\n",
    "\n",
    "# Create graph\n",
    "g = Graph()\n",
    "g.add_edge(\"A\", \"B\")\n",
    "g.add_edge(\"A\", \"C\")\n",
    "g.add_edge(\"B\", \"D\")\n",
    "g.add_edge(\"C\", \"D\")\n",
    "\n",
    "g.print_graph()\n"
   ]
  },
  {
   "cell_type": "code",
   "execution_count": null,
   "id": "dae9db66-6f60-43d2-ae7f-b13252847589",
   "metadata": {},
   "outputs": [],
   "source": []
  },
  {
   "cell_type": "code",
   "execution_count": null,
   "id": "de00e236-8b91-43c3-9653-1db5c128ac2b",
   "metadata": {},
   "outputs": [],
   "source": []
  },
  {
   "cell_type": "code",
   "execution_count": null,
   "id": "6dc59ced-493d-4b26-8096-9fa27fec0548",
   "metadata": {},
   "outputs": [],
   "source": []
  },
  {
   "cell_type": "code",
   "execution_count": null,
   "id": "904f4e61-a4ce-45c9-995d-82d25d7702d7",
   "metadata": {},
   "outputs": [],
   "source": []
  },
  {
   "cell_type": "code",
   "execution_count": null,
   "id": "43c38804-756a-4a67-8594-7a14b65e4814",
   "metadata": {},
   "outputs": [],
   "source": []
  },
  {
   "cell_type": "code",
   "execution_count": null,
   "id": "d6939aa7-bfaf-4574-bcef-dd693373a0a4",
   "metadata": {},
   "outputs": [],
   "source": []
  },
  {
   "cell_type": "code",
   "execution_count": null,
   "id": "0869118e-6121-4ee2-9672-0227854bd25b",
   "metadata": {},
   "outputs": [],
   "source": []
  },
  {
   "cell_type": "code",
   "execution_count": null,
   "id": "0747837c-c273-4776-9027-2c093c59df47",
   "metadata": {},
   "outputs": [],
   "source": []
  },
  {
   "cell_type": "code",
   "execution_count": null,
   "id": "b450481a-c513-453d-b23e-b53e18169dff",
   "metadata": {},
   "outputs": [],
   "source": []
  },
  {
   "cell_type": "code",
   "execution_count": null,
   "id": "4cd3983d-8cc1-40bd-a9ec-d9be24e27dc1",
   "metadata": {},
   "outputs": [],
   "source": []
  },
  {
   "cell_type": "code",
   "execution_count": null,
   "id": "a17e11ed-128b-4cdf-95fc-fccdfa74d99d",
   "metadata": {},
   "outputs": [],
   "source": []
  },
  {
   "cell_type": "code",
   "execution_count": null,
   "id": "1b6028e2-9ff8-4048-805f-427b39a94cd4",
   "metadata": {},
   "outputs": [],
   "source": []
  }
 ],
 "metadata": {
  "kernelspec": {
   "display_name": "Python [conda env:base] *",
   "language": "python",
   "name": "conda-base-py"
  },
  "language_info": {
   "codemirror_mode": {
    "name": "ipython",
    "version": 3
   },
   "file_extension": ".py",
   "mimetype": "text/x-python",
   "name": "python",
   "nbconvert_exporter": "python",
   "pygments_lexer": "ipython3",
   "version": "3.11.7"
  }
 },
 "nbformat": 4,
 "nbformat_minor": 5
}
