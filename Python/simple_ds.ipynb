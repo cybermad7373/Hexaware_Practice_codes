{
 "cells": [
  {
   "cell_type": "code",
   "execution_count": 1,
   "id": "ad45f53c-ddce-4c40-b494-0a9bb36a8c2a",
   "metadata": {},
   "outputs": [
    {
     "name": "stdout",
     "output_type": "stream",
     "text": [
      "Original: ['apple', 'banana', 'cherry', 'apple']\n",
      "After append: ['apple', 'banana', 'cherry', 'apple', 'date']\n",
      "After remove: ['apple', 'cherry', 'apple', 'date']\n",
      "After modify: ['apple', 'blueberry', 'apple', 'date']\n",
      "Iterate:\n",
      "- apple\n",
      "- blueberry\n",
      "- apple\n",
      "- date\n"
     ]
    }
   ],
   "source": [
    "# List: Ordered, mutable, allows duplicates\n",
    "fruits = [\"apple\", \"banana\", \"cherry\", \"apple\"]\n",
    "print(\"Original:\", fruits)\n",
    "\n",
    "fruits.append(\"date\")\n",
    "print(\"After append:\", fruits)\n",
    "\n",
    "fruits.remove(\"banana\")\n",
    "print(\"After remove:\", fruits)\n",
    "\n",
    "fruits[1] = \"blueberry\"\n",
    "print(\"After modify:\", fruits)\n",
    "\n",
    "print(\"Iterate:\")\n",
    "for f in fruits:\n",
    "    print(\"-\", f)\n"
   ]
  },
  {
   "cell_type": "code",
   "execution_count": 3,
   "id": "73199cbb-4cd2-4726-8b9b-9485d682cab5",
   "metadata": {},
   "outputs": [
    {
     "name": "stdout",
     "output_type": "stream",
     "text": [
      "Tuple: (3, 4)\n",
      "x = 3 , y = 4\n",
      "Concat: (3, 4, 5)\n",
      "Repeat: (3, 4, 3, 4)\n",
      "Iterate tuple:\n",
      "3\n",
      "4\n"
     ]
    }
   ],
   "source": [
    "# Tuple: Ordered, immutable, allows duplicates\n",
    "point = (3, 4)\n",
    "print(\"Tuple:\", point)\n",
    "\n",
    "# Access elements\n",
    "print(\"x =\", point[0], \", y =\", point[1])\n",
    "\n",
    "# Concatenate or repeat\n",
    "t2 = point + (5,)\n",
    "print(\"Concat:\", t2)\n",
    "\n",
    "t3 = point * 2\n",
    "print(\"Repeat:\", t3)\n",
    "\n",
    "# Iterate\n",
    "print(\"Iterate tuple:\")\n",
    "for coord in point:\n",
    "    print(coord)\n"
   ]
  },
  {
   "cell_type": "code",
   "execution_count": 5,
   "id": "dc50ef45-0ee2-4875-9dee-05c3c4756270",
   "metadata": {},
   "outputs": [
    {
     "name": "stdout",
     "output_type": "stream",
     "text": [
      "Original: {'name': 'Alice', 'age': 30}\n",
      "Updated: {'name': 'Alice', 'age': 31, 'city': 'Chennai'}\n",
      "Access: Alice\n",
      "Keys: ['name', 'age', 'city']\n",
      "Values: ['Alice', 31, 'Chennai']\n",
      "Iterate items:\n",
      "name ➜ Alice\n",
      "age ➜ 31\n",
      "city ➜ Chennai\n",
      "Popped city: Chennai\n",
      "After pop: {'name': 'Alice', 'age': 31}\n"
     ]
    }
   ],
   "source": [
    "# Dictionary: Mutable mapping of unique keys → values\n",
    "person = {\"name\": \"Alice\", \"age\": 30}\n",
    "print(\"Original:\", person)\n",
    "\n",
    "person[\"age\"] = 31          # Modify\n",
    "person[\"city\"] = \"Chennai\"  # Add\n",
    "print(\"Updated:\", person)\n",
    "\n",
    "print(\"Access:\", person[\"name\"])\n",
    "print(\"Keys:\", list(person.keys()))\n",
    "print(\"Values:\", list(person.values()))\n",
    "\n",
    "print(\"Iterate items:\")\n",
    "for k, v in person.items():\n",
    "    print(f\"{k} ➜ {v}\")\n",
    "\n",
    "removed = person.pop(\"city\")\n",
    "print(\"Popped city:\", removed)\n",
    "print(\"After pop:\", person)\n",
    "\n"
   ]
  },
  {
   "cell_type": "code",
   "execution_count": 7,
   "id": "479e37e6-3f8c-4f35-9178-72a39dfad68e",
   "metadata": {},
   "outputs": [
    {
     "name": "stdout",
     "output_type": "stream",
     "text": [
      "Initial (no duplicates): {1, 2, 3}\n",
      "After add: {1, 2, 3, 4}\n",
      "After discard: {1, 3, 4}\n",
      "Membership test: 3 in nums? True\n",
      "Iterate set:\n",
      "1\n",
      "3\n",
      "4\n",
      "Union: {1, 2, 3, 4}\n",
      "Intersection: {2, 3}\n",
      "Difference A-B: {1}\n"
     ]
    }
   ],
   "source": [
    "# Set: Unordered, mutable, unique items\n",
    "nums = {1, 2, 3, 2}\n",
    "print(\"Initial (no duplicates):\", nums)\n",
    "\n",
    "nums.add(4)\n",
    "print(\"After add:\", nums)\n",
    "\n",
    "nums.discard(2)\n",
    "print(\"After discard:\", nums)\n",
    "\n",
    "print(\"Membership test: 3 in nums?\", 3 in nums)\n",
    "\n",
    "print(\"Iterate set:\")\n",
    "for n in nums:\n",
    "    print(n)\n",
    "\n",
    "# Set operations\n",
    "A = {1, 2, 3}\n",
    "B = {2, 3, 4}\n",
    "print(\"Union:\", A | B)\n",
    "print(\"Intersection:\", A & B)\n",
    "print(\"Difference A-B:\", A - B)\n"
   ]
  },
  {
   "cell_type": "code",
   "execution_count": 9,
   "id": "6b1a145f-d691-4df9-b712-d95b8365df3d",
   "metadata": {},
   "outputs": [
    {
     "name": "stdout",
     "output_type": "stream",
     "text": [
      "All students: [('Alice', 85), ('Bob', 92), ('Cara', 78), ('Bob', 75)]\n"
     ]
    }
   ],
   "source": [
    "# 1. List of student name-tuples\n",
    "students = [(\"Alice\", 85), (\"Bob\", 92), (\"Cara\", 78), (\"Bob\", 75)]\n",
    "print(\"All students:\", students)\n"
   ]
  },
  {
   "cell_type": "code",
   "execution_count": 11,
   "id": "7717b967-1144-4938-a929-78400a9d4be7",
   "metadata": {},
   "outputs": [
    {
     "name": "stdout",
     "output_type": "stream",
     "text": [
      "Unique names: {'Alice', 'Bob', 'Cara'}\n"
     ]
    }
   ],
   "source": [
    "# 2. Use set to get unique student names\n",
    "names = {name for name, _ in students}\n",
    "print(\"Unique names:\", names)\n",
    "\n"
   ]
  },
  {
   "cell_type": "code",
   "execution_count": 15,
   "id": "d2f9c129-38d6-4db9-a842-0ec8671a3f2e",
   "metadata": {},
   "outputs": [
    {
     "name": "stdout",
     "output_type": "stream",
     "text": [
      "Average scores: {'Alice': 85.0, 'Bob': 83.5, 'Cara': 78.0}\n"
     ]
    }
   ],
   "source": [
    "# 3. Aggregate and compute average in a dict\n",
    "grades = {name: [] for name in names}\n",
    "for name, score in students:\n",
    "    grades[name].append(score)\n",
    "\n",
    "avg_scores = {name: sum(scores)/len(scores) for name, scores in grades.items()}\n",
    "print(\"Average scores:\", avg_scores)"
   ]
  },
  {
   "cell_type": "code",
   "execution_count": 17,
   "id": "a0cc9fd5-3615-4cc2-b023-da7a1719a1e6",
   "metadata": {},
   "outputs": [
    {
     "name": "stdout",
     "output_type": "stream",
     "text": [
      "Top students: ['Alice']\n"
     ]
    }
   ],
   "source": [
    "# 4. Identify top performers (average >= 85)\n",
    "top_students = [name for name, avg in avg_scores.items() if avg >= 85]\n",
    "print(\"Top students:\", top_students)\n"
   ]
  },
  {
   "cell_type": "code",
   "execution_count": 30,
   "id": "40eef670-6c1d-4ec1-b572-a53a73753f27",
   "metadata": {},
   "outputs": [
    {
     "name": "stdout",
     "output_type": "stream",
     "text": [
      "Visitors: ['Jim', 'Bob', 'Alice', 'Bob', 'Dave', 'Eve']\n",
      "Jim - CAST VOTE\n",
      "Bob - CAST VOTE\n",
      "Alice - CAST VOTE\n",
      "Bob - ALREADY VOTED\n",
      "Dave - CAST VOTE\n",
      "Eve - CAST VOTE\n",
      "Total voters: 5\n",
      "Voters list: {'Eve', 'Alice', 'Dave', 'Bob', 'Jim'}\n"
     ]
    }
   ],
   "source": [
    "# Voter Tracking System\n",
    "\n",
    "# Step 1: list of people showing up in order\n",
    "visitors = [\"Jim\", \"Bob\", \"Alice\", \"Bob\", \"Dave\", \"Eve\"]\n",
    "print(\"Visitors:\", visitors)\n",
    "\n",
    "# Step 2: set to record unique voters\n",
    "voted = set()\n",
    "for person in visitors:\n",
    "    if person in voted:\n",
    "        print(f\"{person} - ALREADY VOTED\")\n",
    "    else:\n",
    "        print(f\"{person} - CAST VOTE\")\n",
    "        voted.add(person)\n",
    "\n",
    "print(\"Total voters:\", len(voted))\n",
    "print(\"Voters list:\", voted)\n"
   ]
  },
  {
   "cell_type": "code",
   "execution_count": null,
   "id": "b3d87443-025e-4e49-9ed8-2e667975266b",
   "metadata": {},
   "outputs": [],
   "source": [
    "# Find longest string, filter numbers, detect duplicates\n",
    "\n",
    "def find_longest_string(strings):\n",
    "    longest = \"\"\n",
    "    for s in strings:\n",
    "        if len(s) > len(longest):\n",
    "            longest = s\n",
    "    return longest\n",
    "\n",
    "def filter_greater_than_five(nums):\n",
    "    return [n for n in nums if n > 5]\n",
    "\n",
    "def find_duplicates(values):\n",
    "    seen, duplicates = set(), []\n",
    "    for v in values:\n",
    "        if v in seen:\n",
    "            duplicates.append(v)\n",
    "        else:\n",
    "            seen.add(v)\n",
    "    return duplicates\n",
    "\n",
    "# Demonstration\n",
    "words = [\"hi\", \"hello\", \"world!\"]\n",
    "numbers = [1, 6, 8, 3, 4, 8]\n",
    "mix = [2, 3, 2, 5, 3]\n",
    "\n",
    "print(\"Longest word:\", find_longest_string(words))\n",
    "print(\"Filtered (>5):\", filter_greater_than_five(numbers))\n",
    "print(\"Duplicates in mix:\", find_duplicates(mix))\n"
   ]
  }
 ],
 "metadata": {
  "kernelspec": {
   "display_name": "Python [conda env:base] *",
   "language": "python",
   "name": "conda-base-py"
  },
  "language_info": {
   "codemirror_mode": {
    "name": "ipython",
    "version": 3
   },
   "file_extension": ".py",
   "mimetype": "text/x-python",
   "name": "python",
   "nbconvert_exporter": "python",
   "pygments_lexer": "ipython3",
   "version": "3.11.7"
  }
 },
 "nbformat": 4,
 "nbformat_minor": 5
}
