{
 "cells": [
  {
   "cell_type": "code",
   "execution_count": 5,
   "id": "c368595c-fc23-4cf2-b8a8-d2d9f5000e05",
   "metadata": {},
   "outputs": [],
   "source": [
    "from openpyxl import Workbook\n",
    "\n",
    "wb = Workbook()\n",
    "ws = wb.active\n",
    "\n",
    "for i in range(1, 10001):\n",
    "    ws.append([f\"Row {i}\", f\"Value {i}\"])\n",
    "\n",
    "wb.save(r\"data/new_file.xlsx\")\n"
   ]
  },
  {
   "cell_type": "code",
   "execution_count": 7,
   "id": "dfa154cd-7167-41e4-a203-3564e9ca3ddd",
   "metadata": {},
   "outputs": [
    {
     "name": "stdout",
     "output_type": "stream",
     "text": [
      "('Row 1', 'Value 1')\n",
      "('Row 2', 'Value 2')\n",
      "('Row 3', 'Value 3')\n",
      "('Row 4', 'Value 4')\n",
      "('Row 5', 'Value 5')\n",
      "('Row 6', 'Value 6')\n",
      "('Row 7', 'Value 7')\n",
      "('Row 8', 'Value 8')\n",
      "('Row 9', 'Value 9')\n",
      "('Row 10', 'Value 10')\n"
     ]
    }
   ],
   "source": [
    "from openpyxl import load_workbook\n",
    "\n",
    "wb = load_workbook(r\"data/huge_data.xlsx\", read_only=True)\n",
    "ws = wb.active\n",
    "\n",
    "for row in ws.iter_rows(min_row=1, max_row=10, max_col=2, values_only=True):\n",
    "    print(row)\n"
   ]
  },
  {
   "cell_type": "code",
   "execution_count": 11,
   "id": "a8397051-620e-407c-99dc-b6cb12fd6b52",
   "metadata": {},
   "outputs": [],
   "source": [
    "from openpyxl import Workbook\n",
    "\n",
    "wb = Workbook(write_only=True)\n",
    "ws = wb.create_sheet()\n",
    "\n",
    "for i in range(1, 10001):\n",
    "    ws.append([f\"Row {i}\", f\"Data {i}\"])\n",
    "\n",
    "wb.save(\"write_only_huge_data.xlsx\")\n"
   ]
  },
  {
   "cell_type": "code",
   "execution_count": 15,
   "id": "6986d80b-4233-4c1c-b530-b6b4475aeed6",
   "metadata": {},
   "outputs": [
    {
     "name": "stdout",
     "output_type": "stream",
     "text": [
      "('Row 1', 'Value 1', None, None, None)\n",
      "('Row 2', 'Value 2', None, None, None)\n",
      "('Row 3', 'Value 3', None, None, None)\n",
      "('Row 4', 'Value 4', None, None, None)\n",
      "('Row 5', 'Value 5', None, None, None)\n",
      "('Row 6', 'Value 6', None, None, None)\n",
      "('Row 7', 'Value 7', None, None, None)\n",
      "('Row 8', 'Value 8', None, None, None)\n",
      "('Row 9', 'Value 9', None, None, None)\n",
      "('Row 10', 'Value 10', None, None, None)\n"
     ]
    }
   ],
   "source": [
    "from openpyxl import load_workbook\n",
    "\n",
    "wb = load_workbook(r\"data/huge_data.xlsx\", read_only=True)\n",
    "ws = wb.active\n",
    "\n",
    "for row in ws.iter_rows(min_row=1, max_row=10, max_col=5, values_only=True):\n",
    "    print(row)\n"
   ]
  },
  {
   "cell_type": "markdown",
   "id": "beec6a18-be3a-4130-8c1e-be86be2e4f19",
   "metadata": {},
   "source": [
    "JSON Handling"
   ]
  },
  {
   "cell_type": "code",
   "execution_count": 19,
   "id": "8fd9e4ab-23aa-42c9-beba-75facb22db3b",
   "metadata": {},
   "outputs": [
    {
     "name": "stdout",
     "output_type": "stream",
     "text": [
      "[{'emp_name': 'Shubham', 'email': 'ksingh.shubh@gmail.com', 'job_profile': 'intern'}, {'emp_name': 'Gaurav', 'email': 'gaurav.singh@gmail.com', 'job_profile': 'developer'}, {'emp_name': 'Nikhil', 'email': 'nikhil@geeksforgeeks.org', 'job_profile': 'Full Time'}]\n"
     ]
    }
   ],
   "source": [
    "import json\n",
    "\n",
    "with open(r'data/data.json', 'r') as file:\n",
    "    data = json.load(file)\n",
    "\n",
    "print(data)\n"
   ]
  },
  {
   "cell_type": "code",
   "execution_count": 21,
   "id": "18f6203f-7767-4ab5-85f0-4486a59bf2c7",
   "metadata": {},
   "outputs": [
    {
     "name": "stdout",
     "output_type": "stream",
     "text": [
      "{'name': 'John', 'age': 30, 'city': 'New York'}\n"
     ]
    }
   ],
   "source": [
    "import json\n",
    "\n",
    "json_string = '{\"name\": \"John\", \"age\": 30, \"city\": \"New York\"}'\n",
    "data = json.loads(json_string)\n",
    "print(data)\n"
   ]
  },
  {
   "cell_type": "code",
   "execution_count": 23,
   "id": "e71ed4c9-10b7-4640-a5c0-b904cf2fe5d7",
   "metadata": {},
   "outputs": [],
   "source": [
    "import json\n",
    "\n",
    "data = {\n",
    "    \"name\": \"Alice\",\n",
    "    \"age\": 25,\n",
    "    \"city\": \"Boston\",\n",
    "    \"skills\": [\"Python\", \"SQL\", \"Machine Learning\"]\n",
    "}\n",
    "\n",
    "with open('output.json', 'w') as file:\n",
    "    json.dump(data, file, indent=4)\n"
   ]
  },
  {
   "cell_type": "code",
   "execution_count": 25,
   "id": "9948e6ef-2cb3-4346-89b3-50e52aa99d02",
   "metadata": {},
   "outputs": [
    {
     "name": "stdout",
     "output_type": "stream",
     "text": [
      "{\n",
      "  \"name\": \"Bob\",\n",
      "  \"age\": 40,\n",
      "  \"city\": \"Chicago\"\n",
      "}\n"
     ]
    }
   ],
   "source": [
    "import json\n",
    "\n",
    "data = {\"name\": \"Bob\", \"age\": 40, \"city\": \"Chicago\"}\n",
    "json_string = json.dumps(data, indent=2)\n",
    "print(json_string)\n"
   ]
  },
  {
   "cell_type": "code",
   "execution_count": 27,
   "id": "be40fa4d-a516-4168-98db-502cca0d06db",
   "metadata": {},
   "outputs": [
    {
     "name": "stdout",
     "output_type": "stream",
     "text": [
      "The file was not found.\n"
     ]
    }
   ],
   "source": [
    "import json\n",
    "\n",
    "try:\n",
    "    with open('filepath.json', 'r') as file:\n",
    "        data = json.load(file)\n",
    "except FileNotFoundError:\n",
    "    print(\"The file was not found.\")\n",
    "except json.JSONDecodeError:\n",
    "    print(\"Invalid JSON format.\")\n"
   ]
  },
  {
   "cell_type": "markdown",
   "id": "63641ae1-cd2a-4350-95d4-fa62fdb59354",
   "metadata": {},
   "source": [
    "CSV Handling"
   ]
  },
  {
   "cell_type": "code",
   "execution_count": 31,
   "id": "a8862499-15fb-4c73-b770-37d6320ed2dc",
   "metadata": {},
   "outputs": [],
   "source": [
    "import csv\n",
    "\n",
    "data = [\n",
    "    ['Name', 'Age', 'City'],\n",
    "    ['Alice', 28, 'Boston'],\n",
    "    ['Bob', 35, 'San Francisco']\n",
    "]\n",
    "\n",
    "with open('output.csv', 'w', newline='') as file:\n",
    "    csv_writer = csv.writer(file)\n",
    "    csv_writer.writerows(data)\n"
   ]
  },
  {
   "cell_type": "code",
   "execution_count": null,
   "id": "083ef685-7274-4616-80cf-0e19bb4be3cd",
   "metadata": {},
   "outputs": [],
   "source": []
  }
 ],
 "metadata": {
  "kernelspec": {
   "display_name": "Python [conda env:base] *",
   "language": "python",
   "name": "conda-base-py"
  },
  "language_info": {
   "codemirror_mode": {
    "name": "ipython",
    "version": 3
   },
   "file_extension": ".py",
   "mimetype": "text/x-python",
   "name": "python",
   "nbconvert_exporter": "python",
   "pygments_lexer": "ipython3",
   "version": "3.11.7"
  }
 },
 "nbformat": 4,
 "nbformat_minor": 5
}
