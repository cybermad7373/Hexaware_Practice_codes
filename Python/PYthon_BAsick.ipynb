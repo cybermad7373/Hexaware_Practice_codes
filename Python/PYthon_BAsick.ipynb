{
 "cells": [
  {
   "cell_type": "code",
   "execution_count": 1,
   "id": "25bf6b70-6f61-4fbf-99da-14df561b3efa",
   "metadata": {},
   "outputs": [
    {
     "data": {
      "text/plain": [
       "0"
      ]
     },
     "execution_count": 1,
     "metadata": {},
     "output_type": "execute_result"
    }
   ],
   "source": [
    "x = 10\n",
    "x"
   ]
  },
  {
   "cell_type": "code",
   "execution_count": 3,
   "id": "f55be374-80a9-4906-aa16-d888e9ed6515",
   "metadata": {},
   "outputs": [
    {
     "name": "stdout",
     "output_type": "stream",
     "text": [
      "20.3 Hello\n"
     ]
    }
   ],
   "source": [
    "a = 20.3\n",
    "b = \"Hello\"\n",
    "print(a,b)"
   ]
  },
  {
   "cell_type": "code",
   "execution_count": 5,
   "id": "10fb7481-e2f5-4f5e-8fa7-03f9ee021a3a",
   "metadata": {},
   "outputs": [
    {
     "data": {
      "text/plain": [
       "'sting'"
      ]
     },
     "execution_count": 5,
     "metadata": {},
     "output_type": "execute_result"
    }
   ],
   "source": [
    "x = \"sting\"\n",
    "x"
   ]
  },
  {
   "cell_type": "code",
   "execution_count": 13,
   "id": "0299852a-468d-4c35-9d8c-17bec5c451ef",
   "metadata": {},
   "outputs": [
    {
     "name": "stdout",
     "output_type": "stream",
     "text": [
      "sting\n"
     ]
    }
   ],
   "source": [
    "def Dis():\n",
    "    x = \"inner\"\n",
    "    print(x)\n",
    "\n",
    "print(x)"
   ]
  },
  {
   "cell_type": "code",
   "execution_count": 15,
   "id": "8568441c-9d60-4526-9831-0e94c586c0b1",
   "metadata": {},
   "outputs": [
    {
     "name": "stdout",
     "output_type": "stream",
     "text": [
      "inner\n"
     ]
    }
   ],
   "source": [
    "Dis()"
   ]
  },
  {
   "cell_type": "code",
   "execution_count": 17,
   "id": "a5d600df-9653-4d44-bf30-7b7e936c91a7",
   "metadata": {},
   "outputs": [
    {
     "data": {
      "text/plain": [
       "(int, int)"
      ]
     },
     "execution_count": 17,
     "metadata": {},
     "output_type": "execute_result"
    }
   ],
   "source": [
    "x = 54\n",
    "y = -2\n",
    "type(x),type(y)"
   ]
  },
  {
   "cell_type": "code",
   "execution_count": 1,
   "id": "528f607d-9ae2-46a9-a818-7928706095a3",
   "metadata": {},
   "outputs": [
    {
     "name": "stdout",
     "output_type": "stream",
     "text": [
      "1 is odd\n",
      "2 is even\n",
      "3 is odd\n",
      "4 is even\n",
      "5 is odd\n"
     ]
    }
   ],
   "source": [
    "numbers = [1, 2, 3, 4, 5]\n",
    "for num in numbers:\n",
    "    if num % 2 == 0:\n",
    "        print(f\"{num} is even\")\n",
    "    else:\n",
    "        print(f\"{num} is odd\")\n"
   ]
  },
  {
   "cell_type": "code",
   "execution_count": 3,
   "id": "621b8b72-0eaa-4bd2-9060-3d1266f2f25f",
   "metadata": {},
   "outputs": [
    {
     "name": "stdout",
     "output_type": "stream",
     "text": [
      "1\n",
      "2\n",
      "3\n",
      "No break occurred, loop completed normally.\n"
     ]
    }
   ],
   "source": [
    "for i in range(1, 4):\n",
    "    print(i)\n",
    "    if i == 5:\n",
    "        break\n",
    "else:\n",
    "    print(\"No break occurred, loop completed normally.\")\n"
   ]
  },
  {
   "cell_type": "code",
   "execution_count": 5,
   "id": "4a06c459-00a0-48c8-914a-3eee5c22004c",
   "metadata": {},
   "outputs": [
    {
     "name": "stdout",
     "output_type": "stream",
     "text": [
      "x is greater than 10\n",
      "x is also greater than 20\n"
     ]
    }
   ],
   "source": [
    "x = 25\n",
    "if x > 10:\n",
    "    print(\"x is greater than 10\")\n",
    "    if x > 20:\n",
    "        print(\"x is also greater than 20\")\n"
   ]
  },
  {
   "cell_type": "code",
   "execution_count": 7,
   "id": "54f6d827-d236-4056-8a16-94460991fe3c",
   "metadata": {},
   "outputs": [
    {
     "name": "stdout",
     "output_type": "stream",
     "text": [
      "x is greater than 10\n",
      "x is also greater than 20\n"
     ]
    }
   ],
   "source": [
    "x = 25\n",
    "if x > 10:\n",
    "    print(\"x is greater than 10\")\n",
    "    if x > 20:\n",
    "        print(\"x is also greater than 20\")\n"
   ]
  },
  {
   "cell_type": "code",
   "execution_count": 9,
   "id": "b64ee5ae-a8ac-4fc6-9cc1-c038319c636b",
   "metadata": {},
   "outputs": [
    {
     "name": "stdout",
     "output_type": "stream",
     "text": [
      "Eligible to drive\n"
     ]
    }
   ],
   "source": [
    "age = 22\n",
    "has_license = True\n",
    "\n",
    "if age >= 18 and has_license:\n",
    "    print(\"Eligible to drive\")\n",
    "else:\n",
    "    print(\"Not eligible to drive\")\n"
   ]
  },
  {
   "cell_type": "code",
   "execution_count": null,
   "id": "d579fe25-a5dd-4c4a-aec6-84cf93516417",
   "metadata": {},
   "outputs": [],
   "source": [
    "ages = [78, 34, 21, 47, 9]\n",
    "condition = True\n",
    "\n",
    "if condition:\n",
    "    print(\"Condition is True\")\n",
    "    for age in ages:\n",
    "        print(f\"Age: {age}\")\n",
    "else:\n",
    "    print(\"Condition is False\")\n"
   ]
  },
  {
   "cell_type": "code",
   "execution_count": null,
   "id": "28125dcb-0742-462a-a8c3-1bd802c33bbf",
   "metadata": {},
   "outputs": [],
   "source": [
    "n = 5\n",
    "fact = 1\n",
    "for i in range(1, n + 1):\n",
    "    fact *= i\n",
    "print(\"Factorial (loop):\", fact)\n"
   ]
  },
  {
   "cell_type": "code",
   "execution_count": null,
   "id": "ece1ae60-c0b0-42f8-9a6f-1f2c7ae62bdd",
   "metadata": {},
   "outputs": [],
   "source": [
    "def factorial(n):\n",
    "    if n == 0 or n == 1:\n",
    "        return 1\n",
    "    else:\n",
    "        return n * factorial(n - 1)\n",
    "\n",
    "print(\"Factorial (recursive):\", factorial(5))\n"
   ]
  },
  {
   "cell_type": "code",
   "execution_count": null,
   "id": "e936e867-6761-4774-8871-8d1a0a85ce21",
   "metadata": {},
   "outputs": [],
   "source": [
    "n = 7\n",
    "a, b = 0, 1\n",
    "print(\"Fibonacci Series:\", a, b, end=\" \")\n",
    "for _ in range(n - 2):\n",
    "    c = a + b\n",
    "    print(c, end=\" \")\n",
    "    a, b = b, c\n",
    "print()\n"
   ]
  },
  {
   "cell_type": "code",
   "execution_count": null,
   "id": "bca26e83-e858-4007-b452-9ca998107384",
   "metadata": {},
   "outputs": [],
   "source": [
    "raw = \"   Ruthra \"\n",
    "clean = raw.strip().title()\n",
    "print(clean)  # \"Charanya\"\n"
   ]
  },
  {
   "cell_type": "code",
   "execution_count": null,
   "id": "39dd4cf5-420b-4b9f-9c91-b3c59e1ac925",
   "metadata": {},
   "outputs": [],
   "source": [
    "s = \"hello world\"\n",
    "vowels = sum(s.count(v) for v in \"aeiou\")\n",
    "print(vowels)  # 3\n"
   ]
  },
  {
   "cell_type": "code",
   "execution_count": null,
   "id": "a43fd4c6-b312-4f0c-861a-031342a2d5a1",
   "metadata": {},
   "outputs": [],
   "source": [
    "import string\n",
    "tbl = str.maketrans({d: \"*\" for d in string.digits})\n",
    "print(\"Phone: 123-456\".translate(tbl))  # Phone: ***-***\n"
   ]
  },
  {
   "cell_type": "code",
   "execution_count": null,
   "id": "109f294d-3605-46e1-998a-1f383f0b62c9",
   "metadata": {},
   "outputs": [],
   "source": [
    "words = [\"apple\", \"banana\", \"cherry\"]\n",
    "print(\", \".join(words))  # apple, banana, cherry\n"
   ]
  },
  {
   "cell_type": "code",
   "execution_count": null,
   "id": "9592b2ed-4a92-4884-912c-ba479b1f2f69",
   "metadata": {},
   "outputs": [],
   "source": [
    "name, age = \"Alice\", 30\n",
    "print(f\"{name.upper()} is {age} years old.\")\n"
   ]
  },
  {
   "cell_type": "code",
   "execution_count": 9,
   "id": "7695f3e1-cbe1-4e66-9ce2-85febd0bce7a",
   "metadata": {},
   "outputs": [
    {
     "name": "stdout",
     "output_type": "stream",
     "text": [
      "\n",
      "1 \n",
      "2 2 \n",
      "3 3 3 \n",
      "4 4 4 4 \n",
      "5 5 5 5 5 \n",
      "6 6 6 6 6 \n",
      "\n",
      "8 8 8 8 8 8 8 \n",
      "9 9 9 9 9 9 9 9 \n"
     ]
    }
   ],
   "source": [
    "for x in range(10):\n",
    "    for y in range(x):\n",
    "        if y == 5:continue\n",
    "        if x == 7:break \n",
    "        print(x,end=\" \" )\n",
    "    print()"
   ]
  },
  {
   "cell_type": "code",
   "execution_count": null,
   "id": "5e747092-fe1d-4ca2-92f8-c9870c5eb257",
   "metadata": {},
   "outputs": [],
   "source": []
  },
  {
   "cell_type": "code",
   "execution_count": null,
   "id": "14c2bca9-082a-40a4-b65e-382ba7f1b6d6",
   "metadata": {},
   "outputs": [],
   "source": []
  },
  {
   "cell_type": "code",
   "execution_count": null,
   "id": "7c23473e-dcb2-4b4a-9796-e539d9910925",
   "metadata": {},
   "outputs": [],
   "source": []
  },
  {
   "cell_type": "code",
   "execution_count": null,
   "id": "ebe24d57-2093-4f2e-a04f-afc6fd5bcca0",
   "metadata": {},
   "outputs": [],
   "source": []
  },
  {
   "cell_type": "code",
   "execution_count": null,
   "id": "55a203e7-32a5-4e45-9a7e-ab9b4a9b1429",
   "metadata": {},
   "outputs": [],
   "source": []
  },
  {
   "cell_type": "code",
   "execution_count": null,
   "id": "eb5e1346-865d-4811-b2d5-946bbb910545",
   "metadata": {},
   "outputs": [],
   "source": []
  },
  {
   "cell_type": "code",
   "execution_count": null,
   "id": "f9eeec4e-3b22-4105-9222-26dbf8a29394",
   "metadata": {},
   "outputs": [],
   "source": []
  },
  {
   "cell_type": "code",
   "execution_count": null,
   "id": "4465b79f-02fc-4629-95cc-29996aee76c8",
   "metadata": {},
   "outputs": [],
   "source": []
  },
  {
   "cell_type": "code",
   "execution_count": null,
   "id": "6d5dae93-33d1-43e8-8a5e-7022871711d8",
   "metadata": {},
   "outputs": [],
   "source": []
  },
  {
   "cell_type": "code",
   "execution_count": null,
   "id": "32367cc9-bd1f-4957-a176-7fbe76ecaa9a",
   "metadata": {},
   "outputs": [],
   "source": []
  },
  {
   "cell_type": "code",
   "execution_count": null,
   "id": "541cc599-9a64-4cb2-8017-775c00133853",
   "metadata": {},
   "outputs": [],
   "source": []
  },
  {
   "cell_type": "code",
   "execution_count": null,
   "id": "f033e107-3b03-46a3-a4f6-c478a1790cdf",
   "metadata": {},
   "outputs": [],
   "source": []
  },
  {
   "cell_type": "code",
   "execution_count": null,
   "id": "3b576988-34ba-46f4-b193-a81b14d68e31",
   "metadata": {},
   "outputs": [],
   "source": []
  },
  {
   "cell_type": "code",
   "execution_count": null,
   "id": "14a0360e-780e-4346-ad71-0c123bf6ae66",
   "metadata": {},
   "outputs": [],
   "source": []
  },
  {
   "cell_type": "code",
   "execution_count": null,
   "id": "2cc2ffbe-56bd-4db2-a5a5-909831fad617",
   "metadata": {},
   "outputs": [],
   "source": []
  },
  {
   "cell_type": "code",
   "execution_count": null,
   "id": "01db2db8-b071-42df-a286-6465398ddb47",
   "metadata": {},
   "outputs": [],
   "source": []
  },
  {
   "cell_type": "code",
   "execution_count": null,
   "id": "d1e31200-60fc-4f11-84f4-0623a5ddcc03",
   "metadata": {},
   "outputs": [],
   "source": []
  },
  {
   "cell_type": "code",
   "execution_count": null,
   "id": "afc0d014-b86b-484c-a016-66c7ed4e9a06",
   "metadata": {},
   "outputs": [],
   "source": []
  },
  {
   "cell_type": "code",
   "execution_count": null,
   "id": "bf478064-700e-4cd7-97c4-0eafa506f6bd",
   "metadata": {},
   "outputs": [],
   "source": []
  },
  {
   "cell_type": "code",
   "execution_count": null,
   "id": "ea238427-8c2b-4cd2-9a38-81a9bad2bd11",
   "metadata": {},
   "outputs": [],
   "source": []
  },
  {
   "cell_type": "code",
   "execution_count": null,
   "id": "c0fb03b7-3d3c-4423-aa3f-b8df61f62499",
   "metadata": {},
   "outputs": [],
   "source": []
  },
  {
   "cell_type": "code",
   "execution_count": null,
   "id": "41544cb8-08c4-45e7-93c0-c391ae38a208",
   "metadata": {},
   "outputs": [],
   "source": []
  },
  {
   "cell_type": "code",
   "execution_count": null,
   "id": "05b8d4fa-a460-4a8f-bdf3-db2baacf23d1",
   "metadata": {},
   "outputs": [],
   "source": []
  },
  {
   "cell_type": "code",
   "execution_count": null,
   "id": "83154d67-524d-4108-abea-75f8cae9b5f4",
   "metadata": {},
   "outputs": [],
   "source": []
  },
  {
   "cell_type": "code",
   "execution_count": null,
   "id": "4d8f3e76-2c9d-4b7b-8ad3-63ad608e8273",
   "metadata": {},
   "outputs": [],
   "source": []
  }
 ],
 "metadata": {
  "kernelspec": {
   "display_name": "Python [conda env:base] *",
   "language": "python",
   "name": "conda-base-py"
  },
  "language_info": {
   "codemirror_mode": {
    "name": "ipython",
    "version": 3
   },
   "file_extension": ".py",
   "mimetype": "text/x-python",
   "name": "python",
   "nbconvert_exporter": "python",
   "pygments_lexer": "ipython3",
   "version": "3.11.7"
  }
 },
 "nbformat": 4,
 "nbformat_minor": 5
}
