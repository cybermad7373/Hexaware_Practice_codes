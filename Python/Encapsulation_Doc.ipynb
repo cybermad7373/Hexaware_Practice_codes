{
 "cells": [
  {
   "cell_type": "code",
   "execution_count": null,
   "id": "ba7c68d3-c146-4505-9f15-a3dc45fcc08b",
   "metadata": {},
   "outputs": [],
   "source": [
    "class Employee:\n",
    "    def __init__(self, name, salary):\n",
    "        self.name = name \n",
    "        self._salary = salary \n",
    "\n",
    "    def get_salary(self):\n",
    "        \"\"\"Public method to access protected salary\"\"\"\n",
    "        return self._salary\n",
    "\n",
    "    def work(self):\n",
    "        \"\"\"Base work method\"\"\"\n",
    "        return f\"{self.name} is working.\"\n",
    "\n",
    "\n",
    "class Developer(Employee):\n",
    "    def work(self):\n",
    "        \"\"\"Override work method for Developer\"\"\"\n",
    "        return f\"{self.name} is writing code.\"\n",
    "\n",
    "\n",
    "class Manager(Employee):\n",
    "    def work(self):\n",
    "        \"\"\"Override work method for Manager\"\"\"\n",
    "        return f\"{self.name} is managing the team.\"\n",
    "\n",
    "\n",
    "developer = Developer(\"Alice\", 80000)\n",
    "manager = Manager(\"Bob\", 100000)\n",
    "\n",
    "for employee in [developer, manager]:\n",
    "    print(employee.work())  # Polymorphism in action\n",
    "    print(f\"{employee.name}'s salary: {employee.get_salary()}\")"
   ]
  }
 ],
 "metadata": {
  "kernelspec": {
   "display_name": "Python [conda env:base] *",
   "language": "python",
   "name": "conda-base-py"
  },
  "language_info": {
   "codemirror_mode": {
    "name": "ipython",
    "version": 3
   },
   "file_extension": ".py",
   "mimetype": "text/x-python",
   "name": "python",
   "nbconvert_exporter": "python",
   "pygments_lexer": "ipython3",
   "version": "3.11.7"
  }
 },
 "nbformat": 4,
 "nbformat_minor": 5
}
