{
 "cells": [
  {
   "cell_type": "code",
   "execution_count": 1,
   "id": "4f3b4674-255d-483d-8521-be33d6513bf5",
   "metadata": {},
   "outputs": [
    {
     "name": "stdout",
     "output_type": "stream",
     "text": [
      "x is greater than 5\n",
      "x is even\n",
      "Positive\n"
     ]
    }
   ],
   "source": [
    "# If statement\n",
    "x = 10\n",
    "if x > 5:\n",
    "    print(\"x is greater than 5\")\n",
    "\n",
    "# If-else statement\n",
    "if x % 2 == 0:\n",
    "    print(\"x is even\")\n",
    "else:\n",
    "    print(\"x is odd\")\n",
    "\n",
    "# If-elif-else statement\n",
    "if x < 0:\n",
    "    print(\"Negative\")\n",
    "elif x == 0:\n",
    "    print(\"Zero\")\n",
    "else:\n",
    "    print(\"Positive\")"
   ]
  },
  {
   "cell_type": "code",
   "execution_count": 11,
   "id": "447b11d5-e107-47d2-b2ea-50cde20847de",
   "metadata": {},
   "outputs": [
    {
     "name": "stdout",
     "output_type": "stream",
     "text": [
      "0\n",
      "1\n",
      "2\n",
      "3\n",
      "4\n",
      "0\n",
      "1\n",
      "2\n",
      "3\n",
      "4\n",
      "(0, 0)\n",
      "(0, 1)\n",
      "(1, 0)\n",
      "(1, 1)\n",
      "(2, 0)\n",
      "(2, 1)\n",
      "1\n",
      "3\n"
     ]
    }
   ],
   "source": [
    "# For loop\n",
    "for i in range(5):  # 0 to 4\n",
    "    print(i)\n",
    "\n",
    "# While loop\n",
    "count = 0\n",
    "while count < 5:\n",
    "    print(count)\n",
    "    count += 1\n",
    "\n",
    "# Nested loop\n",
    "for i in range(3):\n",
    "    for j in range(2):\n",
    "        print(f\"({i}, {j})\")\n",
    "\n",
    "# Break, Continue, Pass\n",
    "for num in range(10):\n",
    "    if num == 5:\n",
    "        break     \n",
    "    if num % 2 == 0:\n",
    "        continue   \n",
    "    print(num)\n",
    "else:\n",
    "    print(\"Loop completed\") "
   ]
  },
  {
   "cell_type": "code",
   "execution_count": 13,
   "id": "aac3f01a-767d-4c7d-81e8-a58ac444339d",
   "metadata": {},
   "outputs": [
    {
     "name": "stdin",
     "output_type": "stream",
     "text": [
      "Enter your name:  Rutrha\n",
      "Enter your age:  23\n"
     ]
    },
    {
     "name": "stdout",
     "output_type": "stream",
     "text": [
      "Hello Rutrha, you are 23 years old.\n",
      "Next year you'll be 24\n",
      "Name: Rutrha, Age: 23\n",
      "Name: Rutrha, Age: 23\n"
     ]
    }
   ],
   "source": [
    "# Input\n",
    "name = input(\"Enter your name: \")\n",
    "age = int(input(\"Enter your age: \"))\n",
    "\n",
    "# Output\n",
    "print(f\"Hello {name}, you are {age} years old.\")\n",
    "print(\"Next year you'll be\", age + 1)\n",
    "\n",
    "# Formatted output\n",
    "print(\"Name: %s, Age: %d\" % (name, age))\n",
    "print(\"Name: {}, Age: {}\".format(name, age))"
   ]
  },
  {
   "cell_type": "code",
   "execution_count": 15,
   "id": "7f941dbb-483a-4a6b-a32d-1f16df5dea07",
   "metadata": {},
   "outputs": [
    {
     "name": "stdout",
     "output_type": "stream",
     "text": [
      "[4, 3]\n",
      "[5, 4, 3]\n",
      "[3, 2, 1]\n",
      "1\n",
      "[5, 3, 1]\n",
      "[1, 2, 3, 4, 5]\n"
     ]
    }
   ],
   "source": [
    "# Introduction to Lists\n",
    "fruits = ['apple', 'banana', 'cherry']\n",
    "numbers = [1, 2, 3, 4, 5]\n",
    "\n",
    "# List Methods\n",
    "fruits.append('orange')        # Add item\n",
    "fruits.insert(1, 'grape')      # Insert at position\n",
    "fruits.remove('banana')        # Remove item\n",
    "popped = fruits.pop()          # Remove and return last item\n",
    "fruits.sort()                  # Sort list\n",
    "numbers.reverse()              # Reverse list\n",
    "\n",
    "# List Slicing\n",
    "print(numbers[1:3])    # Items 1 to 2\n",
    "print(numbers[:3])     # Items 0 to 2\n",
    "print(numbers[2:])     # Items 2 to end\n",
    "print(numbers[-1])     # Last item\n",
    "print(numbers[::2])    # Every second item\n",
    "print(numbers[::-1])   # Reversed list"
   ]
  },
  {
   "cell_type": "code",
   "execution_count": 17,
   "id": "8eb35ede-7ec2-4da2-b2d5-d55ddaec6b48",
   "metadata": {},
   "outputs": [
    {
     "name": "stdout",
     "output_type": "stream",
     "text": [
      "dict_keys(['name', 'age', 'occupation'])\n",
      "dict_values(['Alice', 25, 'Engineer'])\n",
      "dict_items([('name', 'Alice'), ('age', 25), ('occupation', 'Engineer')])\n",
      "Alice\n"
     ]
    }
   ],
   "source": [
    "# Introduction to Dictionaries\n",
    "person = {\n",
    "    'name': 'Alice',\n",
    "    'age': 25,\n",
    "    'occupation': 'Engineer'\n",
    "}\n",
    "\n",
    "# Dictionary Methods\n",
    "print(person.keys())      # All keys\n",
    "print(person.values())   # All values\n",
    "print(person.items())    # Key-value pairs\n",
    "print(person.get('name', 'Unknown'))  # Get with default\n",
    "person.update({'age': 26, 'city': 'New York'})  # Update multiple\n",
    "removed = person.pop('occupation')    # Remove key"
   ]
  },
  {
   "cell_type": "code",
   "execution_count": 19,
   "id": "f9e5d1f2-144f-4df8-9e1f-868c5e3f2cef",
   "metadata": {},
   "outputs": [],
   "source": [
    "# Introduction to Sets\n",
    "a = {1, 2, 3, 4}\n",
    "b = {3, 4, 5, 6}\n",
    "\n",
    "# Set Methods\n",
    "a.add(5)            # Add element\n",
    "a.remove(1)         # Remove element (raises error if not found)\n",
    "a.discard(10)       # Remove if exists (no error)\n",
    "c = a.union(b)      # All elements from both sets\n",
    "d = a.intersection(b)  # Common elements\n",
    "e = a.difference(b) # Elements in a not in b\n",
    "f = a.symmetric_difference(b)  # Elements in either but not both"
   ]
  },
  {
   "cell_type": "code",
   "execution_count": 21,
   "id": "ee172f14-6911-4687-b513-8fdf4665459d",
   "metadata": {},
   "outputs": [],
   "source": [
    "# Map function\n",
    "numbers = [1, 2, 3, 4]\n",
    "squared = list(map(lambda x: x**2, numbers))\n",
    "\n",
    "# Filter function\n",
    "even_numbers = list(filter(lambda x: x % 2 == 0, numbers))\n",
    "\n",
    "# Zip function\n",
    "names = ['Alice', 'Bob', 'Charlie']\n",
    "ages = [25, 30, 35]\n",
    "combined = list(zip(names, ages))"
   ]
  },
  {
   "cell_type": "code",
   "execution_count": null,
   "id": "cd19efa5-5eea-4a96-92da-533e51366d33",
   "metadata": {},
   "outputs": [],
   "source": []
  },
  {
   "cell_type": "code",
   "execution_count": null,
   "id": "3fb2fd65-eb83-4321-bc5d-f206b93d67cf",
   "metadata": {},
   "outputs": [],
   "source": []
  },
  {
   "cell_type": "code",
   "execution_count": null,
   "id": "8128ca8b-44e7-4224-bd9a-7104e870d88e",
   "metadata": {},
   "outputs": [],
   "source": []
  }
 ],
 "metadata": {
  "kernelspec": {
   "display_name": "Python [conda env:base] *",
   "language": "python",
   "name": "conda-base-py"
  },
  "language_info": {
   "codemirror_mode": {
    "name": "ipython",
    "version": 3
   },
   "file_extension": ".py",
   "mimetype": "text/x-python",
   "name": "python",
   "nbconvert_exporter": "python",
   "pygments_lexer": "ipython3",
   "version": "3.11.7"
  }
 },
 "nbformat": 4,
 "nbformat_minor": 5
}
