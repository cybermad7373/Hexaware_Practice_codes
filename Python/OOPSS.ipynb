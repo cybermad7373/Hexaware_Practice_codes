{
 "cells": [
  {
   "cell_type": "code",
   "execution_count": 3,
   "id": "50b9caba-cd59-4e99-8ed6-432c01159f69",
   "metadata": {},
   "outputs": [
    {
     "name": "stdout",
     "output_type": "stream",
     "text": [
      "Student Ruthra with roll number 321560 has been added.\n",
      "Student Ram with roll number 321561 has been added.\n",
      "Student Arun with roll number 321562 has been added.\n",
      "Student Priya with roll number 321563 has been added.\n",
      "Student Kumar with roll number 321564 has been added.\n",
      "{'name': 'Ram', 'marks': 92}\n",
      "\n",
      "Top Students (Marks > 85):\n",
      "{'roll_number': 321560, 'name': 'Ruthra', 'marks': 89}\n",
      "{'roll_number': 321561, 'name': 'Ram', 'marks': 92}\n",
      "{'roll_number': 321563, 'name': 'Priya', 'marks': 95}\n"
     ]
    }
   ],
   "source": [
    "class StudentManager:\n",
    "    def __init__(self):\n",
    "        self.students = {}\n",
    "\n",
    "    def add_student(self, roll_number, name, marks):\n",
    "        if roll_number in self.students:\n",
    "            print(f\"Roll number {roll_number} already exists.\")\n",
    "        else:\n",
    "            self.students[roll_number] = {\"name\": name, \"marks\": marks}\n",
    "            print(f\"Student {name} with roll number {roll_number} has been added.\")\n",
    "\n",
    "    def get_student(self, roll_number):\n",
    "        if roll_number in self.students:\n",
    "            return self.students[roll_number]\n",
    "        else:\n",
    "            return f\"No student with roll number {roll_number}.\"\n",
    "\n",
    "    def get_top_students(self, criteria):\n",
    "        return [\n",
    "            {\"roll_number\": roll_number, \"name\": data[\"name\"], \"marks\": data[\"marks\"]}\n",
    "            for roll_number, data in self.students.items()\n",
    "            if data[\"marks\"] > criteria\n",
    "        ]\n",
    "\n",
    "        # top_students = []\n",
    "        # for roll_number, data in self.students.items():\n",
    "        #     if data[\"marks\"] > criteria:\n",
    "        #         top_students.append({\n",
    "        #             \"roll_number\": roll_number,\n",
    "        #             \"name\": data[\"name\"],\n",
    "        #             \"marks\": data[\"marks\"]\n",
    "        #         })\n",
    "        # return top_students\n",
    "\n",
    "\n",
    "result = StudentManager()\n",
    "\n",
    "student_data = [\n",
    "    {\"roll_number\": 321560, \"name\": \"Ruthra\", \"marks\": 89},\n",
    "    {\"roll_number\": 321561, \"name\": \"Ram\", \"marks\": 92},\n",
    "    {\"roll_number\": 321561, \"name\": \"Arun\", \"marks\": 78},\n",
    "    {\"roll_number\": 321563, \"name\": \"Priya\", \"marks\": 95},\n",
    "    {\"roll_number\": 321564, \"name\": \"Kumar\", \"marks\": 68},\n",
    "]\n",
    "\n",
    "for student in student_data:\n",
    "    result.add_student(student[\"roll_number\"], student[\"name\"], student[\"marks\"])\n",
    "\n",
    "print(result.get_student(321561))  \n",
    "\n",
    "top = result.get_top_students(85)\n",
    "print(\"\\nTop Students (Marks > 85):\")\n",
    "for student in top:\n",
    "    print(student)\n"
   ]
  },
  {
   "cell_type": "code",
   "execution_count": null,
   "id": "c0aa3e85-4f1f-449e-8483-3fe42464ec6e",
   "metadata": {},
   "outputs": [],
   "source": []
  },
  {
   "cell_type": "code",
   "execution_count": null,
   "id": "9edc21bd-d8bd-4992-9343-497b2580f385",
   "metadata": {},
   "outputs": [],
   "source": []
  },
  {
   "cell_type": "code",
   "execution_count": null,
   "id": "414f9871-55bb-42b0-940b-a50576958749",
   "metadata": {},
   "outputs": [],
   "source": []
  },
  {
   "cell_type": "code",
   "execution_count": null,
   "id": "3d094892-32d9-47a8-8c8d-603fe8cbf219",
   "metadata": {},
   "outputs": [],
   "source": []
  },
  {
   "cell_type": "code",
   "execution_count": 1,
   "id": "d64c1366-64aa-4a7d-835d-8b634f65a438",
   "metadata": {},
   "outputs": [],
   "source": [
    "class BankAccount:\n",
    "    def __init__(self, acc_holder, balance=0):\n",
    "        self.acc_holder = acc_holder\n",
    "        self._balance = balance\n",
    "\n",
    "    def deposit(self, amount):\n",
    "        if amount > 0:\n",
    "            self._balance += amount\n",
    "            print(f\"{amount} has been deposited.\\n{self.acc_holder}'s balance is now: {self._balance}\")\n",
    "        else:\n",
    "            print(\"Amount must be greater than zero.\")\n",
    "\n",
    "    def check_balance(self):\n",
    "        return f\"{self.acc_holder}, your current balance is: {self._balance}\"\n"
   ]
  },
  {
   "cell_type": "code",
   "execution_count": 3,
   "id": "63b57bc8-89a7-47b9-81d4-9e49a0328892",
   "metadata": {},
   "outputs": [
    {
     "name": "stdout",
     "output_type": "stream",
     "text": [
      "200 has been deposited.\n",
      "Ruthra's balance is now: 700\n",
      "Ruthra, your current balance is: 700\n",
      "300 has been withdrawn.\n",
      "Ruthra's balance is now: 400\n",
      "Ruthra, your current balance is: 400\n"
     ]
    }
   ],
   "source": [
    "account1 = BankAccount(\"Ruthra\", 500)\n",
    "account1.deposit(200)\n",
    "print(account1.check_balance())\n"
   ]
  },
  {
   "cell_type": "code",
   "execution_count": 11,
   "id": "72da7f73-f228-4eb9-b263-71f9422bc1e4",
   "metadata": {},
   "outputs": [],
   "source": [
    "class SavingAccount(BankAccount):\n",
    "    def __init__(self, acc_holder, balance=0, interest_rate=0.05):\n",
    "        super().__init__(acc_holder, balance)\n",
    "        self.interest_rate = interest_rate\n",
    "\n",
    "    def calculate_interest(self):\n",
    "        interest = self._balance * self.interest_rate\n",
    "        self._balance += interest\n",
    "        print(f\"{interest:.2f} has been added as interest.\\nTotal balance is now {self._balance:.2f}\")\n"
   ]
  },
  {
   "cell_type": "code",
   "execution_count": 13,
   "id": "e2bb7dca-9d25-489b-9cd0-ff3f78dbdd3d",
   "metadata": {},
   "outputs": [
    {
     "name": "stdout",
     "output_type": "stream",
     "text": [
      "500 has been deposited.\n",
      "Ruthra's balance is now: 1500\n",
      "75.00 has been added as interest.\n",
      "Total balance is now 1575.00\n",
      "Ruthra, your current balance is: 1575.0\n"
     ]
    }
   ],
   "source": [
    "savings = SavingAccount(\"Ruthra\", 1000)\n",
    "savings.deposit(500)\n",
    "savings.calculate_interest()\n",
    "print(savings.check_balance())\n",
    "savings"
   ]
  },
  {
   "cell_type": "code",
   "execution_count": null,
   "id": "5ba303bf-20ee-41c2-bc33-4c071e134352",
   "metadata": {},
   "outputs": [],
   "source": [
    "class SavingAccountWithdraw(BankAccount):\n",
    "    def __init__(self, acc_holder, balance=0, overdraft_limit=10000):\n",
    "        super().__init__(acc_holder, balance)\n",
    "        self.interest_rate = interest_rat\n",
    "        \n",
    "    def withdraw(self, amount):\n",
    "        if amount > 0 and amount <= self._balance + self.overdraft_limit:\n",
    "            self._balance -= amount\n",
    "            print(f\"{amount} has been withdrawn.\\n{self.acc_holder}'s balance is now: {self._balance}\")\n",
    "        else:\n",
    "            print(\"Insufficient balance or invalid amount.\")"
   ]
  },
  {
   "cell_type": "code",
   "execution_count": null,
   "id": "d48fbbf8-4729-404f-b5aa-55941d5ed32e",
   "metadata": {},
   "outputs": [],
   "source": []
  }
 ],
 "metadata": {
  "kernelspec": {
   "display_name": "Python [conda env:base] *",
   "language": "python",
   "name": "conda-base-py"
  },
  "language_info": {
   "codemirror_mode": {
    "name": "ipython",
    "version": 3
   },
   "file_extension": ".py",
   "mimetype": "text/x-python",
   "name": "python",
   "nbconvert_exporter": "python",
   "pygments_lexer": "ipython3",
   "version": "3.11.7"
  }
 },
 "nbformat": 4,
 "nbformat_minor": 5
}
