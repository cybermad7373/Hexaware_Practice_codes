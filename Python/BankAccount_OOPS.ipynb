{
 "cells": [
  {
   "cell_type": "code",
   "execution_count": 1,
   "id": "ecdba4c6-c735-4670-9019-c3d9598a0206",
   "metadata": {},
   "outputs": [],
   "source": [
    "class BankAccount:\n",
    "    \"\"\"Base class for a generic bank account.\"\"\"\n",
    "    def __init__(self, account_holder, balance=0):\n",
    "        self.account_holder = account_holder  # Public attribute\n",
    "        self.__balance = balance  # Private attribute\n",
    "\n",
    "    def get_balance(self):\n",
    "        \"\"\"Get the current account balance\"\"\"\n",
    "        return self.__balance\n",
    "\n",
    "    def deposit(self, amount):\n",
    "        \"\"\"Deposit money into the account\"\"\"\n",
    "        if amount > 0:\n",
    "            self.__balance += amount\n",
    "            print(f\"Deposited {amount}. New balance: {self.__balance}\")\n",
    "        else:\n",
    "            print(\"Deposit amount must be positive\")\n",
    "\n",
    "    def withdraw(self, amount):\n",
    "        \"\"\"Withdraw money from the account\"\"\"\n",
    "        raise NotImplementedError(\"Withdraw method must be implemented by subclasses\")\n",
    "\n",
    "    def get_account_info(self):\n",
    "        \"\"\"Get account information\"\"\"\n",
    "        raise NotImplementedError(\"get_account_info method must be implemented by subclasses\")\n"
   ]
  },
  {
   "cell_type": "code",
   "execution_count": 3,
   "id": "ae8f3b08-f9f1-4226-9822-a3a12dce33fc",
   "metadata": {},
   "outputs": [],
   "source": [
    "\n",
    "class SavingsAccount(BankAccount):\n",
    "    \"\"\"Savings account with interest and minimum balance\"\"\"\n",
    "    def __init__(self, account_holder, balance=0, interest_rate=0.03):\n",
    "        super().__init__(account_holder, balance)\n",
    "        self.interest_rate = interest_rate\n",
    "\n",
    "    def withdraw(self, amount):\n",
    "        \"\"\"Withdraw with minimum balance requirement\"\"\"\n",
    "        if amount <= 0:\n",
    "            print(\"Withdrawal amount must be positive\")\n",
    "            return\n",
    "            \n",
    "        if self.get_balance() - amount >= 500:\n",
    "            self._BankAccount__balance -= amount  # Direct access to private var\n",
    "            print(f\"Withdrew {amount}. New balance: {self.get_balance()}\")\n",
    "        else:\n",
    "            print(\"Cannot withdraw. Minimum balance of 500 must be maintained\")\n",
    "\n",
    "    def calculate_interest(self):\n",
    "        \"\"\"Calculate and add interest to account\"\"\"\n",
    "        interest = self.get_balance() * self.interest_rate\n",
    "        if interest > 0:\n",
    "            self.deposit(interest)\n",
    "            print(f\"Added interest: {interest}\")\n",
    "\n",
    "    def get_account_info(self):\n",
    "        return (f\"Savings Account - Holder: {self.account_holder}, \"\n",
    "                f\"Balance: {self.get_balance()}, \"\n",
    "                f\"Interest Rate: {self.interest_rate}\")\n"
   ]
  },
  {
   "cell_type": "code",
   "execution_count": 5,
   "id": "447dc27a-df1a-4a8b-be73-5052d7b69abe",
   "metadata": {},
   "outputs": [],
   "source": [
    "class CurrentAccount(BankAccount):\n",
    "    \"\"\"Current account with overdraft facility\"\"\"\n",
    "    def __init__(self, account_holder, balance=0, overdraft_limit=1000):\n",
    "        super().__init__(account_holder, balance)\n",
    "        self.overdraft_limit = overdraft_limit\n",
    "\n",
    "    def withdraw(self, amount):\n",
    "        \"\"\"Withdraw with overdraft facility\"\"\"\n",
    "        if amount <= 0:\n",
    "            print(\"Withdrawal amount must be positive\")\n",
    "            return\n",
    "            \n",
    "        if self.get_balance() - amount >= -self.overdraft_limit:\n",
    "            self._BankAccount__balance -= amount  # Direct access to private var\n",
    "            print(f\"Withdrew {amount}. New balance: {self.get_balance()}\")\n",
    "        else:\n",
    "            print(\"Withdrawal denied. Overdraft limit exceeded\")\n",
    "\n",
    "    def get_account_info(self):\n",
    "        return (f\"Current Account - Holder: {self.account_holder}, \"\n",
    "                f\"Balance: {self.get_balance()}, \"\n",
    "                f\"Overdraft Limit: {self.overdraft_limit}\")\n"
   ]
  },
  {
   "cell_type": "code",
   "execution_count": 7,
   "id": "fce8f0dc-d4dd-4f40-9dbd-cb320ab24889",
   "metadata": {},
   "outputs": [],
   "source": [
    "\n",
    "def main():\n",
    "    # Create accounts\n",
    "    savings = SavingsAccount(\"Vishnu\", 2000, 0.04)\n",
    "    current = CurrentAccount(\"Vishwa\", 500, 1000)\n",
    "\n",
    "    # Demonstrate polymorphism\n",
    "    accounts = [savings, current]\n",
    "    \n",
    "    print(\"=== Initial Account Information ===\")\n",
    "    for account in accounts:\n",
    "        print(account.get_account_info())\n",
    "\n",
    "    # Perform transactions\n",
    "    print(\"\\n=== Performing Transactions ===\")\n",
    "    for account in accounts:\n",
    "        account.deposit(500)\n",
    "        account.withdraw(1000)\n",
    "        if isinstance(account, SavingsAccount):\n",
    "            account.calculate_interest()\n",
    "\n",
    "    # Final balances\n",
    "    print(\"\\n=== Final Account Information ===\")\n",
    "    for account in accounts:\n",
    "        print(account.get_account_info())\n"
   ]
  },
  {
   "cell_type": "code",
   "execution_count": 9,
   "id": "00501ae0-a579-4fe2-a362-9194a5bc1bbf",
   "metadata": {},
   "outputs": [
    {
     "name": "stdout",
     "output_type": "stream",
     "text": [
      "=== Initial Account Information ===\n",
      "Savings Account - Holder: Vishnu, Balance: 2000, Interest Rate: 0.04\n",
      "Current Account - Holder: Vishwa, Balance: 500, Overdraft Limit: 1000\n",
      "\n",
      "=== Performing Transactions ===\n",
      "Deposited 500. New balance: 2500\n",
      "Withdrew 1000. New balance: 1500\n",
      "Deposited 60.0. New balance: 1560.0\n",
      "Added interest: 60.0\n",
      "Deposited 500. New balance: 1000\n",
      "Withdrew 1000. New balance: 0\n",
      "\n",
      "=== Final Account Information ===\n",
      "Savings Account - Holder: Vishnu, Balance: 1560.0, Interest Rate: 0.04\n",
      "Current Account - Holder: Vishwa, Balance: 0, Overdraft Limit: 1000\n"
     ]
    }
   ],
   "source": [
    "main()"
   ]
  },
  {
   "cell_type": "code",
   "execution_count": null,
   "id": "1af231e5-63d5-423f-9adc-25303108b59a",
   "metadata": {},
   "outputs": [],
   "source": []
  }
 ],
 "metadata": {
  "kernelspec": {
   "display_name": "Python [conda env:base] *",
   "language": "python",
   "name": "conda-base-py"
  },
  "language_info": {
   "codemirror_mode": {
    "name": "ipython",
    "version": 3
   },
   "file_extension": ".py",
   "mimetype": "text/x-python",
   "name": "python",
   "nbconvert_exporter": "python",
   "pygments_lexer": "ipython3",
   "version": "3.11.7"
  }
 },
 "nbformat": 4,
 "nbformat_minor": 5
}
