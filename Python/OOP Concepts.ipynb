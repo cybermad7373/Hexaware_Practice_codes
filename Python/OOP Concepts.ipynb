{
 "cells": [
  {
   "cell_type": "code",
   "execution_count": 1,
   "id": "594b0518-bb41-4aec-8fb7-eb6ea17ca303",
   "metadata": {},
   "outputs": [
    {
     "name": "stdout",
     "output_type": "stream",
     "text": [
      "Buddy is 9 years old\n",
      "Buddy says Woof Woof\n"
     ]
    }
   ],
   "source": [
    "class Dog:\n",
    "    # Class attribute\n",
    "    species = \"Canis familiaris\"\n",
    "    \n",
    "    # Initializer / Instance attributes\n",
    "    def __init__(self, name, age):\n",
    "        self.name = name\n",
    "        self.age = age\n",
    "    \n",
    "    # Instance method\n",
    "    def description(self):\n",
    "        return f\"{self.name} is {self.age} years old\"\n",
    "    \n",
    "    # Another instance method\n",
    "    def speak(self, sound):\n",
    "        return f\"{self.name} says {sound}\"\n",
    "\n",
    "# Instantiate the Dog class\n",
    "buddy = Dog(\"Buddy\", 9)\n",
    "print(buddy.description())\n",
    "print(buddy.speak(\"Woof Woof\"))"
   ]
  },
  {
   "cell_type": "code",
   "execution_count": 8,
   "id": "a3dd6207-9660-403f-86e5-9dda5593a65f",
   "metadata": {},
   "outputs": [
    {
     "name": "stdout",
     "output_type": "stream",
     "text": [
      "Public\n",
      "Protected\n",
      "Private\n"
     ]
    }
   ],
   "source": [
    "class MyClass:\n",
    "    def __init__(self):\n",
    "        self.public_var = \"Public\"      # Public\n",
    "        self._protected_var = \"Protected\"  # Protected (convention)\n",
    "        self.__private_var = \"Private\"     # Private (name mangling)\n",
    "\n",
    "    def public_method(self):\n",
    "        return \"Public method\"\n",
    "\n",
    "    def _protected_method(self):\n",
    "        return \"Protected method\"\n",
    "\n",
    "    def __private_method(self):\n",
    "        return \"Private method\"\n",
    "\n",
    "obj = MyClass()\n",
    "print(obj.public_var)          # OK\n",
    "print(obj._protected_var)      # Possible but not recommended\n",
    "# print(obj.__private_var)     # Error\n",
    "print(obj._MyClass__private_var)  # Access private (name mangling)"
   ]
  },
  {
   "cell_type": "code",
   "execution_count": 10,
   "id": "416eb3e2-b419-49f3-8393-4f64839b74b9",
   "metadata": {},
   "outputs": [
    {
     "name": "stdout",
     "output_type": "stream",
     "text": [
      "Buddy says Woof!\n",
      "Whiskers says Meow!\n",
      "Child method\n",
      "Parent method\n"
     ]
    }
   ],
   "source": [
    "# Base class\n",
    "class Animal:\n",
    "    def __init__(self, name):\n",
    "        self.name = name\n",
    "    \n",
    "    def speak(self):\n",
    "        raise NotImplementedError(\"Subclass must implement abstract method\")\n",
    "\n",
    "# Derived class\n",
    "class Dog(Animal):\n",
    "    def speak(self):\n",
    "        return f\"{self.name} says Woof!\"\n",
    "\n",
    "class Cat(Animal):\n",
    "    def speak(self):\n",
    "        return f\"{self.name} says Meow!\"\n",
    "\n",
    "# Polymorphism in action\n",
    "animals = [Dog(\"Buddy\"), Cat(\"Whiskers\")]\n",
    "for animal in animals:\n",
    "    print(animal.speak())\n",
    "\n",
    "# Method Overriding\n",
    "class Parent:\n",
    "    def show(self):\n",
    "        print(\"Parent method\")\n",
    "\n",
    "class Child(Parent):\n",
    "    def show(self):\n",
    "        print(\"Child method\")\n",
    "        super().show()  # Call parent method\n",
    "\n",
    "c = Child()\n",
    "c.show()"
   ]
  },
  {
   "cell_type": "code",
   "execution_count": null,
   "id": "b2ee4180-86d6-434a-8f68-055b0558e62c",
   "metadata": {},
   "outputs": [],
   "source": []
  },
  {
   "cell_type": "code",
   "execution_count": null,
   "id": "946f77cd-e950-4326-80b1-64d674a17a3a",
   "metadata": {},
   "outputs": [],
   "source": []
  },
  {
   "cell_type": "code",
   "execution_count": null,
   "id": "28c3a722-d275-4954-84c9-9a24d18b9972",
   "metadata": {},
   "outputs": [],
   "source": []
  },
  {
   "cell_type": "code",
   "execution_count": null,
   "id": "49563014-c964-4c00-a41c-973fe3faac78",
   "metadata": {},
   "outputs": [],
   "source": []
  }
 ],
 "metadata": {
  "kernelspec": {
   "display_name": "Python [conda env:base] *",
   "language": "python",
   "name": "conda-base-py"
  },
  "language_info": {
   "codemirror_mode": {
    "name": "ipython",
    "version": 3
   },
   "file_extension": ".py",
   "mimetype": "text/x-python",
   "name": "python",
   "nbconvert_exporter": "python",
   "pygments_lexer": "ipython3",
   "version": "3.11.7"
  }
 },
 "nbformat": 4,
 "nbformat_minor": 5
}
