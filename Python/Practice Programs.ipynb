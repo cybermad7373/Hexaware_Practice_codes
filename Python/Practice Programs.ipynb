{
 "cells": [
  {
   "cell_type": "code",
   "execution_count": 11,
   "id": "e22fc5e9-04c4-442f-855f-b3e49f74c948",
   "metadata": {},
   "outputs": [
    {
     "name": "stdout",
     "output_type": "stream",
     "text": [
      "Student ID: 101\n",
      "Student Name: Ravi Kumar\n"
     ]
    }
   ],
   "source": [
    "class Student:\n",
    "    def __init__(self, student_id, student_name):\n",
    "        self.student_id = student_id\n",
    "        self.student_name = student_name\n",
    "\n",
    "    def display(self):\n",
    "        print(f\"Student ID: {self.student_id}\")\n",
    "        print(f\"Student Name: {self.student_name}\")\n",
    "\n",
    "student1 = Student(101, \"Ravi Kumar\")\n",
    "student1.display()\n"
   ]
  },
  {
   "cell_type": "code",
   "execution_count": 13,
   "id": "9d378f62-61d6-4980-bdee-ac297e483385",
   "metadata": {},
   "outputs": [
    {
     "name": "stdout",
     "output_type": "stream",
     "text": [
      "Area of Rectangle: 50\n"
     ]
    }
   ],
   "source": [
    "class Rectangle:\n",
    "    def __init__(self, length, width):\n",
    "        self.length = length\n",
    "        self.width = width\n",
    "\n",
    "    def compute_area(self):\n",
    "        return self.length * self.width\n",
    "\n",
    "rect = Rectangle(10, 5)\n",
    "print(f\"Area of Rectangle: {rect.compute_area()}\")\n"
   ]
  },
  {
   "cell_type": "code",
   "execution_count": 15,
   "id": "b635211a-1616-40cc-af9a-58c6bd167f85",
   "metadata": {},
   "outputs": [
    {
     "name": "stdout",
     "output_type": "stream",
     "text": [
      "Overtime Pay: 1000\n"
     ]
    }
   ],
   "source": [
    "class Employee:\n",
    "    def __init__(self, emp_id, name, salary, department):\n",
    "        self.emp_id = emp_id\n",
    "        self.name = name\n",
    "        self.salary = salary\n",
    "        self.department = department\n",
    "\n",
    "    def calculate_overtime(self, hours, rate_per_hour):\n",
    "        return hours * rate_per_hour\n",
    "\n",
    "emp1 = Employee(1, \"Sneha\", 40000, \"HR\")\n",
    "print(f\"Overtime Pay: {emp1.calculate_overtime(5, 200)}\")\n"
   ]
  },
  {
   "cell_type": "code",
   "execution_count": 17,
   "id": "e4426ff0-7d52-4843-b188-51c567afae7c",
   "metadata": {},
   "outputs": [
    {
     "name": "stdout",
     "output_type": "stream",
     "text": [
      "Sum: 15\n",
      "Product: 120\n"
     ]
    }
   ],
   "source": [
    "numbers = [1, 2, 3, 4, 5]\n",
    "\n",
    "total = sum(numbers)\n",
    "\n",
    "product = 1\n",
    "for num in numbers:\n",
    "    product *= num\n",
    "\n",
    "print(f\"Sum: {total}\")\n",
    "print(f\"Product: {product}\")\n"
   ]
  },
  {
   "cell_type": "code",
   "execution_count": 19,
   "id": "2b96e87c-a420-4e29-bbf5-3b1e559ca08e",
   "metadata": {},
   "outputs": [
    {
     "name": "stdout",
     "output_type": "stream",
     "text": [
      "Reversed String: dlroW olleH\n"
     ]
    }
   ],
   "source": [
    "text = \"Hello World\"\n",
    "reversed_text = text[::-1]\n",
    "print(f\"Reversed String: {reversed_text}\")\n"
   ]
  },
  {
   "cell_type": "code",
   "execution_count": null,
   "id": "42a4b83e-c363-4e11-a93c-849ffa3257af",
   "metadata": {},
   "outputs": [],
   "source": []
  }
 ],
 "metadata": {
  "kernelspec": {
   "display_name": "Python [conda env:base] *",
   "language": "python",
   "name": "conda-base-py"
  },
  "language_info": {
   "codemirror_mode": {
    "name": "ipython",
    "version": 3
   },
   "file_extension": ".py",
   "mimetype": "text/x-python",
   "name": "python",
   "nbconvert_exporter": "python",
   "pygments_lexer": "ipython3",
   "version": "3.11.7"
  }
 },
 "nbformat": 4,
 "nbformat_minor": 5
}
