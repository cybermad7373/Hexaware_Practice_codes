{
 "cells": [
  {
   "cell_type": "code",
   "execution_count": 68,
   "id": "3ddcb18e-8f45-45fc-b8a6-ff9a6d508323",
   "metadata": {},
   "outputs": [
    {
     "name": "stdout",
     "output_type": "stream",
     "text": [
      "Hello, World!\n",
      "This is a text file.\n",
      "\n",
      "Hello, World!\n",
      "This is a text file.\n"
     ]
    }
   ],
   "source": [
    "# Writing\n",
    "with open(r'data/example.txt', 'w') as f:\n",
    "    f.write(\"Hello, World!\\n\")\n",
    "    f.write(\"This is a text file.\\n\")\n",
    "\n",
    "# Reading\n",
    "with open(r'data/example.txt', 'r') as f:\n",
    "    content = f.read()\n",
    "    print(content)\n",
    "\n",
    "# Reading\n",
    "with open(r'data/example.txt', 'r') as f:\n",
    "    for line in f:\n",
    "        print(line.strip())"
   ]
  },
  {
   "cell_type": "code",
   "execution_count": 70,
   "id": "5c184120-685a-43e3-8c0e-747fd927ade4",
   "metadata": {},
   "outputs": [
    {
     "name": "stdout",
     "output_type": "stream",
     "text": [
      "b'\\x00\\x01\\x02\\x03\\x04\\x05\\x06\\x07\\x08\\t'\n"
     ]
    }
   ],
   "source": [
    "# Writing binary data\n",
    "data = bytes(range(256))\n",
    "with open(r'data/binary.bin', 'wb') as f:\n",
    "    f.write(data)\n",
    "\n",
    "# Reading binary data\n",
    "with open(r'data/binary.bin', 'rb') as f:\n",
    "    binary_content = f.read()\n",
    "    print(binary_content[:10])  # First 10 bytes"
   ]
  },
  {
   "cell_type": "code",
   "execution_count": null,
   "id": "f74efc67-4353-454c-943c-a2004a51a1aa",
   "metadata": {},
   "outputs": [],
   "source": []
  },
  {
   "cell_type": "code",
   "execution_count": 73,
   "id": "58969994-e7c2-46be-b213-5b23be61c07c",
   "metadata": {},
   "outputs": [
    {
     "name": "stdout",
     "output_type": "stream",
     "text": [
      "Requirement already satisfied: openpyxl in c:\\users\\asus\\anaconda3\\lib\\site-packages (3.1.5)\n",
      "Requirement already satisfied: et-xmlfile in c:\\users\\asus\\anaconda3\\lib\\site-packages (from openpyxl) (1.1.0)\n"
     ]
    }
   ],
   "source": [
    "!pip install openpyxl"
   ]
  },
  {
   "cell_type": "markdown",
   "id": "fbba9f2e-c521-4828-a68d-db0f1b64233d",
   "metadata": {},
   "source": [
    "Reading from Spreadsheets"
   ]
  },
  {
   "cell_type": "code",
   "execution_count": 87,
   "id": "56196a89-83bf-4e26-8244-1a10a09f9ab5",
   "metadata": {},
   "outputs": [
    {
     "name": "stdout",
     "output_type": "stream",
     "text": [
      "Name\n"
     ]
    }
   ],
   "source": [
    "import openpyxl\n",
    "# Give the location of the file\n",
    "path = r\"data/new.xlsx\"\n",
    "\n",
    "# To open the workbook workbook object is created\n",
    "wb_obj = openpyxl.load_workbook(path)\n",
    "# Get workbook active sheet object from the active attribute\n",
    "sheet_obj = wb_obj.active\n",
    "# Cell object is created by using sheet object's cell() method.\n",
    "cell_obj = sheet_obj.cell(row = 1, column = 1)\n",
    "print(cell_obj.value)"
   ]
  },
  {
   "cell_type": "markdown",
   "id": "b6fae0c6-e905-41be-9095-86769479ecae",
   "metadata": {},
   "source": [
    "Reading from Multiple Cells"
   ]
  },
  {
   "cell_type": "code",
   "execution_count": 89,
   "id": "37d78ef5-02e5-46fa-900a-53c213dd901c",
   "metadata": {},
   "outputs": [
    {
     "name": "stdout",
     "output_type": "stream",
     "text": [
      "Name\n",
      "Ankit\n",
      "Rahul\n",
      "Priya\n",
      "Nikhil\n",
      "Nisha\n",
      "Ankit B.Tech CSE 4 "
     ]
    }
   ],
   "source": [
    "import openpyxl\n",
    "path = r\"data/new.xlsx\"\n",
    "wb_obj = openpyxl.load_workbook(path) \n",
    "sheet_obj = wb_obj.active\n",
    "row = sheet_obj.max_row\n",
    "column = sheet_obj.max_column\n",
    "for i in range(1, row + 1): \n",
    "    cell_obj = sheet_obj.cell(row = i, column = 1) \n",
    "    print(cell_obj.value) \n",
    "for i in range(1, column + 1): \n",
    "    cell_obj = sheet_obj.cell(row = 2, column = i) \n",
    "    print(cell_obj.value, end = \" \")"
   ]
  },
  {
   "cell_type": "markdown",
   "id": "de5d0a0a-3370-4c51-a5dd-acb30bc4d51a",
   "metadata": {},
   "source": [
    "Writing to Spreadsheet"
   ]
  },
  {
   "cell_type": "code",
   "execution_count": 91,
   "id": "f686f3d2-a4d3-478d-a1cf-24f137fa0f0b",
   "metadata": {},
   "outputs": [],
   "source": [
    "import openpyxl\n",
    "wb= openpyxl.Workbook()\n",
    "sheet = wb.active\n",
    "c1 = sheet.cell(row = 1, column = 1)\n",
    "c1.value = \"Hello\"\n",
    "c2 = sheet.cell(row= 1 , column = 2)\n",
    "c2.value = \"World\"\n",
    "c3 = sheet['A2']\n",
    "c3.value = \"Welcome\"\n",
    "c4 = sheet['B2']\n",
    "c4.value = \"Everyone\"\n",
    "wb.save(r\"data/sample.xlsx\")"
   ]
  },
  {
   "cell_type": "markdown",
   "id": "0091164b-f51a-49ad-a727-d408f29f89bb",
   "metadata": {},
   "source": [
    "Appending to the Spreadsheet"
   ]
  },
  {
   "cell_type": "code",
   "execution_count": 93,
   "id": "6fa631af-2c79-4730-a7dc-7aa7eb6aabd2",
   "metadata": {},
   "outputs": [],
   "source": [
    "import openpyxl\n",
    "wb= openpyxl.load_workbook(r\"data/sample.xlsx\") \n",
    "sheet = wb.active\n",
    "c = sheet['A3'] \n",
    "c.value = \"New Data\"\n",
    "wb.save(r\"data/sample.xlsx\")"
   ]
  },
  {
   "cell_type": "code",
   "execution_count": null,
   "id": "24d4154b-a365-4efc-b14a-f80ae2fbc1fa",
   "metadata": {},
   "outputs": [],
   "source": []
  },
  {
   "cell_type": "markdown",
   "id": "b7f3db1d-3888-42b3-be2f-7a9b2d07bfcf",
   "metadata": {},
   "source": [
    "### Reading a CSV file"
   ]
  },
  {
   "cell_type": "code",
   "execution_count": 95,
   "id": "6efbe5c8-5578-4e03-9a64-00b3ae7e437b",
   "metadata": {},
   "outputs": [
    {
     "name": "stdout",
     "output_type": "stream",
     "text": [
      "Total no. of rows: 11\n",
      "Field names are:Country, Age, Salary, Purchased\n",
      "\n",
      "First5 rows are:\n",
      "\n",
      "    France         44      72000         No      Spain         27      48000        Yes    Germany         30      54000         No      Spain         38      61000         No    Germany         40                   Yes \n",
      "\n"
     ]
    }
   ],
   "source": [
    "import csv\n",
    "filename = r\"data/Data.csv\"\n",
    "rows, fields = [], []\n",
    "with open(filename, 'r') as csvfile:\n",
    "    csvreader= csv.reader(csvfile)\n",
    "    fields = next(csvreader)\n",
    "    for row in csvreader:\n",
    "        rows.append(row)\n",
    "    print(\"Total no. of rows: %d\"%(csvreader.line_num))\n",
    "\n",
    "print('Field names are:'+ ', '.join(field for field in fields))\n",
    "print('\\nFirst5 rows are:\\n')\n",
    "\n",
    "for row in rows[:5]:\n",
    "    for col in row:\n",
    "        print(\"%10s\"%col,end=\" \"),\n",
    "print('\\n')"
   ]
  },
  {
   "cell_type": "code",
   "execution_count": 97,
   "id": "8d0f53f5-dae9-4258-adfe-713457f6161a",
   "metadata": {},
   "outputs": [],
   "source": [
    "import csv \n",
    "fields = ['Name', 'Branch', 'Year', 'CGPA'] \n",
    "rows = [ ['Nikhil', 'COE', '2', '9.0'], \n",
    "['Sanchit', 'COE', '2', '9.1'], \n",
    "['Aditya', 'IT', '2', '9.3'], \n",
    "['Sagar', 'SE', '1', '9.5'], \n",
    "['Prateek', 'MCE', '3', '7.8'], \n",
    "['Sahil', 'EP', '2', '9.1']] \n",
    "filename = r\"data/university_records.csv\"\n",
    "with open(filename, 'w') as csvfile: \n",
    "    csvwriter = csv.writer(csvfile) \n",
    "    csvwriter.writerow(fields) \n",
    "    csvwriter.writerows(rows)"
   ]
  },
  {
   "cell_type": "markdown",
   "id": "87717169-f548-419e-b204-3d7b3fa609ed",
   "metadata": {},
   "source": [
    "### Read from JSON"
   ]
  },
  {
   "cell_type": "code",
   "execution_count": 99,
   "id": "35afbd33-9be2-41be-a72f-98e17ce2ac78",
   "metadata": {},
   "outputs": [
    {
     "name": "stdout",
     "output_type": "stream",
     "text": [
      "{'quiz': {'sport': {'q1': {'question': 'Which one is correct team name in NBA?', 'options': ['New York Bulls', 'Los Angeles Kings', 'Golden State Warriros', 'Huston Rocket'], 'answer': 'Huston Rocket'}}, 'maths': {'q1': {'question': '5 + 7 = ?', 'options': ['10', '11', '12', '13'], 'answer': '12'}, 'q2': {'question': '12 - 8 = ?', 'options': ['1', '2', '3', '4'], 'answer': '4'}}}}\n",
      "\n",
      "\n",
      "\n",
      "{'sport': {'q1': {'question': 'Which one is correct team name in NBA?', 'options': ['New York Bulls', 'Los Angeles Kings', 'Golden State Warriros', 'Huston Rocket'], 'answer': 'Huston Rocket'}}, 'maths': {'q1': {'question': '5 + 7 = ?', 'options': ['10', '11', '12', '13'], 'answer': '12'}, 'q2': {'question': '12 - 8 = ?', 'options': ['1', '2', '3', '4'], 'answer': '4'}}}\n",
      "\n",
      "\n",
      "\n",
      "{'q1': {'question': '5 + 7 = ?', 'options': ['10', '11', '12', '13'], 'answer': '12'}, 'q2': {'question': '12 - 8 = ?', 'options': ['1', '2', '3', '4'], 'answer': '4'}}\n",
      "\n",
      "\n",
      "\n",
      "{'question': '5 + 7 = ?', 'options': ['10', '11', '12', '13'], 'answer': '12'}\n"
     ]
    }
   ],
   "source": [
    "#json data\n",
    "import json\n",
    "\n",
    "jr_path = r\"data/file.json\"\n",
    "\n",
    "try:\n",
    "    with open(jr_path,'r') as file:\n",
    "        cnt = json.load(file)\n",
    "        print(cnt)\n",
    "        print(\"\\n\\n\")\n",
    "        print(cnt[\"quiz\"])\n",
    "        print(\"\\n\\n\")\n",
    "        print(cnt[\"quiz\"][\"maths\"])\n",
    "        print(\"\\n\\n\")\n",
    "        print(cnt[\"quiz\"][\"maths\"][\"q1\"])\n",
    "except FileExistsError:\n",
    "    print(\"File not found\")\n",
    "except PermissionError:\n",
    "    print(\"You don't have permission to access\")"
   ]
  },
  {
   "cell_type": "code",
   "execution_count": 101,
   "id": "f583535a-674a-43b7-a03e-b1e7c5655883",
   "metadata": {},
   "outputs": [
    {
     "name": "stdout",
     "output_type": "stream",
     "text": [
      "JSON string =  {'name': 'Bob', 'languages': 'English'}\n",
      "\n",
      "{'emp_name': 'Shubham', 'email': 'ksingh.shubh@gmail.com', 'job_profile': 'intern'}\n",
      "{'emp_name': 'Gaurav', 'email': 'gaurav.singh@gmail.com', 'job_profile': 'developer'}\n",
      "{'emp_name': 'Nikhil', 'email': 'nikhil@geeksforgeeks.org', 'job_profile': 'Full Time'}\n"
     ]
    }
   ],
   "source": [
    "import json\n",
    "a = '{\"name\": \"Bob\", \"languages\": \"English\"}'\n",
    "y = json.loads(a)\n",
    "print(\"JSON string = \", y)\n",
    "print()\n",
    "f = open (r'data/data.json', \"r\")\n",
    "data = json.loads(f.read())\n",
    "for i in data:\n",
    "    print(i)"
   ]
  },
  {
   "cell_type": "code",
   "execution_count": 103,
   "id": "3ac97e31-2ae6-447e-b765-aed50dfd4635",
   "metadata": {},
   "outputs": [
    {
     "name": "stdout",
     "output_type": "stream",
     "text": [
      "JSON string =  {'name': 'Bob', 'languages': 'English'}\n",
      "\n",
      "{'emp_name': 'Shubham', 'email': 'ksingh.shubh@gmail.com', 'job_profile': 'intern'}\n",
      "{'emp_name': 'Gaurav', 'email': 'gaurav.singh@gmail.com', 'job_profile': 'developer'}\n",
      "{'emp_name': 'Nikhil', 'email': 'nikhil@geeksforgeeks.org', 'job_profile': 'Full Time'}\n"
     ]
    }
   ],
   "source": [
    "import json\n",
    "a = '{\"name\": \"Bob\", \"languages\": \"English\"}'\n",
    "y = json.loads(a)\n",
    "print(\"JSON string = \", y)\n",
    "print()\n",
    "f = open (r'data/data.json', \"r\")\n",
    "data = json.loads(f.read())\n",
    "for i in data:\n",
    "    print(i)\n",
    "f.close()"
   ]
  },
  {
   "cell_type": "markdown",
   "id": "9ef8f741-5f4f-44d9-a617-b70bbd4b621b",
   "metadata": {},
   "source": [
    "### XML Files in Python"
   ]
  },
  {
   "cell_type": "code",
   "execution_count": 109,
   "id": "b4430da0-17f8-47e9-b5a5-751a74df7b7a",
   "metadata": {},
   "outputs": [
    {
     "name": "stdout",
     "output_type": "stream",
     "text": [
      "[<unique>\n",
      "    Add a video URL in here\n",
      "  </unique>, <unique>\n",
      "    Add a workbook URL here\n",
      "  </unique>]\n",
      "<child name=\"Frank\" test=\"0\">\n",
      "    FRANK likes EVERYONE\n",
      "  </child>\n",
      "0\n"
     ]
    }
   ],
   "source": [
    "from bs4 import BeautifulSoup\n",
    "with open(r'data/dict.xml', 'r') as f:\n",
    "    data = f.read()\n",
    "Bs_data = BeautifulSoup(data, \"xml\")\n",
    "b_unique = Bs_data.find_all('unique')\n",
    "print(b_unique)\n",
    "b_name= Bs_data.find('child', {'name':'Frank'})\n",
    "print(b_name)\n",
    "value = b_name.get('test')\n",
    "print(value)"
   ]
  },
  {
   "cell_type": "code",
   "execution_count": 115,
   "id": "b0dd12b9-412e-47e2-b152-dd4487fcccec",
   "metadata": {},
   "outputs": [
    {
     "name": "stdout",
     "output_type": "stream",
     "text": [
      "<?xml version=\"1.0\" encoding=\"utf-8\"?>\n",
      "<saranghe>\n",
      " <child name=\"Frank\" test=\"WHAT !!\">\n",
      "  FRANK likes EVERYONE\n",
      " </child>\n",
      " <unique>\n",
      "  Add a video URL in here\n",
      " </unique>\n",
      " <child name=\"Texas\" test=\"1\">\n",
      "  TEXAS is a PLACE\n",
      " </child>\n",
      " <child name=\"Frank\" test=\"WHAT !!\">\n",
      "  Exclusively\n",
      " </child>\n",
      " <unique>\n",
      "  Add a workbook URL here\n",
      " </unique>\n",
      " <data>\n",
      "  Add the content of your article here\n",
      "  <family>\n",
      "   Add the font family of your text here\n",
      "  </family>\n",
      "  <size>\n",
      "   Add the font size of your text here\n",
      "  </size>\n",
      " </data>\n",
      "</saranghe>\n",
      "\n"
     ]
    }
   ],
   "source": [
    "from bs4 import BeautifulSoup\n",
    "with open(r'data/new_dict.xml', 'r') as f:\n",
    "    data = f.read()\n",
    "bs_data = BeautifulSoup(data, 'xml')\n",
    "for tag in bs_data.find_all('child', {'name':'Frank'}):\n",
    "    tag['test'] = \"WHAT !!\"\n",
    "print(bs_data.prettify())"
   ]
  },
  {
   "cell_type": "code",
   "execution_count": null,
   "id": "6e8ec061-58ec-4499-aa54-c17d6022f937",
   "metadata": {},
   "outputs": [],
   "source": []
  },
  {
   "cell_type": "code",
   "execution_count": null,
   "id": "5eb60bdb-3d5f-439f-bb4e-4b604b02413f",
   "metadata": {},
   "outputs": [],
   "source": []
  }
 ],
 "metadata": {
  "kernelspec": {
   "display_name": "Python [conda env:base] *",
   "language": "python",
   "name": "conda-base-py"
  },
  "language_info": {
   "codemirror_mode": {
    "name": "ipython",
    "version": 3
   },
   "file_extension": ".py",
   "mimetype": "text/x-python",
   "name": "python",
   "nbconvert_exporter": "python",
   "pygments_lexer": "ipython3",
   "version": "3.11.7"
  }
 },
 "nbformat": 4,
 "nbformat_minor": 5
}
