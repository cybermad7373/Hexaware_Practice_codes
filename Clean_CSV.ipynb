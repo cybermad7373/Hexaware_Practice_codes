{
 "cells": [
  {
   "cell_type": "code",
   "execution_count": 22,
   "id": "9fe656cd-3ea8-4dc5-a9ba-26c96f095381",
   "metadata": {},
   "outputs": [],
   "source": [
    "import pandas as pd\n",
    "from io import StringIO\n",
    "\n",
    "data = \"\"\"\n",
    "ID|Name|Business effective date|Amount|Notes\n",
    "1|Ruthra Varshan|2023-05-15|1500.50|Project A\n",
    "2|Chavya Varma|2023-06-20|2750.00|\n",
    "3|Hema Latha||1800.75|Project C\n",
    "4|Arjun Khan|2023-07-10||Project D\n",
    "5||2023-08-05|2200.00|Project E\n",
    "\"\"\"\n",
    "\n",
    "with open(r'Python/data/pipe_data.csv', 'w') as f:\n",
    "    f.write(data)"
   ]
  },
  {
   "cell_type": "code",
   "execution_count": 24,
   "id": "7be9428b-b858-4f47-bd27-4a9f92158f77",
   "metadata": {},
   "outputs": [
    {
     "name": "stdout",
     "output_type": "stream",
     "text": [
      "Original Data:\n"
     ]
    },
    {
     "data": {
      "text/html": [
       "<div>\n",
       "<style scoped>\n",
       "    .dataframe tbody tr th:only-of-type {\n",
       "        vertical-align: middle;\n",
       "    }\n",
       "\n",
       "    .dataframe tbody tr th {\n",
       "        vertical-align: top;\n",
       "    }\n",
       "\n",
       "    .dataframe thead th {\n",
       "        text-align: right;\n",
       "    }\n",
       "</style>\n",
       "<table border=\"1\" class=\"dataframe\">\n",
       "  <thead>\n",
       "    <tr style=\"text-align: right;\">\n",
       "      <th></th>\n",
       "      <th>ID</th>\n",
       "      <th>Name</th>\n",
       "      <th>Business effective date</th>\n",
       "      <th>Amount</th>\n",
       "      <th>Notes</th>\n",
       "    </tr>\n",
       "  </thead>\n",
       "  <tbody>\n",
       "    <tr>\n",
       "      <th>0</th>\n",
       "      <td>1</td>\n",
       "      <td>Ruthra Varshan</td>\n",
       "      <td>2023-05-15</td>\n",
       "      <td>1500.50</td>\n",
       "      <td>Project A</td>\n",
       "    </tr>\n",
       "    <tr>\n",
       "      <th>1</th>\n",
       "      <td>2</td>\n",
       "      <td>Chavya Varma</td>\n",
       "      <td>2023-06-20</td>\n",
       "      <td>2750.00</td>\n",
       "      <td>NaN</td>\n",
       "    </tr>\n",
       "    <tr>\n",
       "      <th>2</th>\n",
       "      <td>3</td>\n",
       "      <td>Hema Latha</td>\n",
       "      <td>NaN</td>\n",
       "      <td>1800.75</td>\n",
       "      <td>Project C</td>\n",
       "    </tr>\n",
       "    <tr>\n",
       "      <th>3</th>\n",
       "      <td>4</td>\n",
       "      <td>Arjun Khan</td>\n",
       "      <td>2023-07-10</td>\n",
       "      <td>NaN</td>\n",
       "      <td>Project D</td>\n",
       "    </tr>\n",
       "    <tr>\n",
       "      <th>4</th>\n",
       "      <td>5</td>\n",
       "      <td>NaN</td>\n",
       "      <td>2023-08-05</td>\n",
       "      <td>2200.00</td>\n",
       "      <td>Project E</td>\n",
       "    </tr>\n",
       "  </tbody>\n",
       "</table>\n",
       "</div>"
      ],
      "text/plain": [
       "   ID            Name Business effective date   Amount      Notes\n",
       "0   1  Ruthra Varshan              2023-05-15  1500.50  Project A\n",
       "1   2    Chavya Varma              2023-06-20  2750.00        NaN\n",
       "2   3      Hema Latha                     NaN  1800.75  Project C\n",
       "3   4      Arjun Khan              2023-07-10      NaN  Project D\n",
       "4   5             NaN              2023-08-05  2200.00  Project E"
      ]
     },
     "metadata": {},
     "output_type": "display_data"
    }
   ],
   "source": [
    "df = pd.read_csv(r'Python/data/pipe_data.csv', delimiter='|')\n",
    "\n",
    "print(\"Original Data:\")\n",
    "display(df)"
   ]
  },
  {
   "cell_type": "code",
   "execution_count": 26,
   "id": "f7df2186-d781-4ac8-9173-b7f4004558b5",
   "metadata": {},
   "outputs": [
    {
     "name": "stdout",
     "output_type": "stream",
     "text": [
      "\n",
      "Cleaned Data:\n"
     ]
    },
    {
     "data": {
      "text/html": [
       "<div>\n",
       "<style scoped>\n",
       "    .dataframe tbody tr th:only-of-type {\n",
       "        vertical-align: middle;\n",
       "    }\n",
       "\n",
       "    .dataframe tbody tr th {\n",
       "        vertical-align: top;\n",
       "    }\n",
       "\n",
       "    .dataframe thead th {\n",
       "        text-align: right;\n",
       "    }\n",
       "</style>\n",
       "<table border=\"1\" class=\"dataframe\">\n",
       "  <thead>\n",
       "    <tr style=\"text-align: right;\">\n",
       "      <th></th>\n",
       "      <th>ID</th>\n",
       "      <th>Name</th>\n",
       "      <th>Business effective date</th>\n",
       "      <th>Amount</th>\n",
       "      <th>Notes</th>\n",
       "    </tr>\n",
       "  </thead>\n",
       "  <tbody>\n",
       "    <tr>\n",
       "      <th>0</th>\n",
       "      <td>1</td>\n",
       "      <td>Ruthra Varshan</td>\n",
       "      <td>2023-05-15</td>\n",
       "      <td>1500.50</td>\n",
       "      <td>Project A</td>\n",
       "    </tr>\n",
       "    <tr>\n",
       "      <th>1</th>\n",
       "      <td>2</td>\n",
       "      <td>Chavya Varma</td>\n",
       "      <td>2023-06-20</td>\n",
       "      <td>2750.00</td>\n",
       "      <td>NaN</td>\n",
       "    </tr>\n",
       "    <tr>\n",
       "      <th>2</th>\n",
       "      <td>3</td>\n",
       "      <td>Hema Latha</td>\n",
       "      <td>NaN</td>\n",
       "      <td>1800.75</td>\n",
       "      <td>Project C</td>\n",
       "    </tr>\n",
       "    <tr>\n",
       "      <th>3</th>\n",
       "      <td>4</td>\n",
       "      <td>Arjun Khan</td>\n",
       "      <td>2023-07-10</td>\n",
       "      <td>NaN</td>\n",
       "      <td>Project D</td>\n",
       "    </tr>\n",
       "    <tr>\n",
       "      <th>4</th>\n",
       "      <td>5</td>\n",
       "      <td>NaN</td>\n",
       "      <td>2023-08-05</td>\n",
       "      <td>2200.00</td>\n",
       "      <td>Project E</td>\n",
       "    </tr>\n",
       "  </tbody>\n",
       "</table>\n",
       "</div>"
      ],
      "text/plain": [
       "   ID            Name Business effective date   Amount      Notes\n",
       "0   1  Ruthra Varshan              2023-05-15  1500.50  Project A\n",
       "1   2    Chavya Varma              2023-06-20  2750.00        NaN\n",
       "2   3      Hema Latha                     NaN  1800.75  Project C\n",
       "3   4      Arjun Khan              2023-07-10      NaN  Project D\n",
       "4   5             NaN              2023-08-05  2200.00  Project E"
      ]
     },
     "metadata": {},
     "output_type": "display_data"
    }
   ],
   "source": [
    "df = df.replace('\\|', '', regex=True)\n",
    "\n",
    "df = df.dropna(how='all')\n",
    "\n",
    "df = df.replace('', pd.NA).dropna(how='all')\n",
    "\n",
    "print(\"\\nCleaned Data:\")\n",
    "display(df)"
   ]
  },
  {
   "cell_type": "code",
   "execution_count": 28,
   "id": "a95840e9-0181-42ca-9bb8-a482a197faa8",
   "metadata": {},
   "outputs": [
    {
     "name": "stdout",
     "output_type": "stream",
     "text": [
      "\n",
      "Data with Formatted Dates:\n"
     ]
    },
    {
     "data": {
      "text/html": [
       "<div>\n",
       "<style scoped>\n",
       "    .dataframe tbody tr th:only-of-type {\n",
       "        vertical-align: middle;\n",
       "    }\n",
       "\n",
       "    .dataframe tbody tr th {\n",
       "        vertical-align: top;\n",
       "    }\n",
       "\n",
       "    .dataframe thead th {\n",
       "        text-align: right;\n",
       "    }\n",
       "</style>\n",
       "<table border=\"1\" class=\"dataframe\">\n",
       "  <thead>\n",
       "    <tr style=\"text-align: right;\">\n",
       "      <th></th>\n",
       "      <th>ID</th>\n",
       "      <th>Name</th>\n",
       "      <th>Business effective date</th>\n",
       "      <th>Amount</th>\n",
       "      <th>Notes</th>\n",
       "    </tr>\n",
       "  </thead>\n",
       "  <tbody>\n",
       "    <tr>\n",
       "      <th>0</th>\n",
       "      <td>1</td>\n",
       "      <td>Ruthra Varshan</td>\n",
       "      <td>15/05/2023</td>\n",
       "      <td>1500.50</td>\n",
       "      <td>Project A</td>\n",
       "    </tr>\n",
       "    <tr>\n",
       "      <th>1</th>\n",
       "      <td>2</td>\n",
       "      <td>Chavya Varma</td>\n",
       "      <td>20/06/2023</td>\n",
       "      <td>2750.00</td>\n",
       "      <td>NaN</td>\n",
       "    </tr>\n",
       "    <tr>\n",
       "      <th>2</th>\n",
       "      <td>3</td>\n",
       "      <td>Hema Latha</td>\n",
       "      <td>NaN</td>\n",
       "      <td>1800.75</td>\n",
       "      <td>Project C</td>\n",
       "    </tr>\n",
       "    <tr>\n",
       "      <th>3</th>\n",
       "      <td>4</td>\n",
       "      <td>Arjun Khan</td>\n",
       "      <td>10/07/2023</td>\n",
       "      <td>NaN</td>\n",
       "      <td>Project D</td>\n",
       "    </tr>\n",
       "    <tr>\n",
       "      <th>4</th>\n",
       "      <td>5</td>\n",
       "      <td>NaN</td>\n",
       "      <td>05/08/2023</td>\n",
       "      <td>2200.00</td>\n",
       "      <td>Project E</td>\n",
       "    </tr>\n",
       "  </tbody>\n",
       "</table>\n",
       "</div>"
      ],
      "text/plain": [
       "   ID            Name Business effective date   Amount      Notes\n",
       "0   1  Ruthra Varshan              15/05/2023  1500.50  Project A\n",
       "1   2    Chavya Varma              20/06/2023  2750.00        NaN\n",
       "2   3      Hema Latha                     NaN  1800.75  Project C\n",
       "3   4      Arjun Khan              10/07/2023      NaN  Project D\n",
       "4   5             NaN              05/08/2023  2200.00  Project E"
      ]
     },
     "metadata": {},
     "output_type": "display_data"
    }
   ],
   "source": [
    "# Convert to  dd/mm/yyyy\n",
    "df['Business effective date'] = pd.to_datetime(\n",
    "    df['Business effective date'], \n",
    "    errors='coerce'  # coerce invalid dates to N\n",
    ").dt.strftime('%d/%m/%Y')\n",
    "\n",
    "print(\"\\nData with Formatted Dates:\")\n",
    "display(df)"
   ]
  },
  {
   "cell_type": "code",
   "execution_count": 39,
   "id": "94789f80-d99f-46f8-8d23-6ce097b03622",
   "metadata": {},
   "outputs": [
    {
     "name": "stdout",
     "output_type": "stream",
     "text": [
      "<class 'pandas.core.frame.DataFrame'>\n",
      "RangeIndex: 5 entries, 0 to 4\n",
      "Data columns (total 5 columns):\n",
      " #   Column                   Non-Null Count  Dtype  \n",
      "---  ------                   --------------  -----  \n",
      " 0   ID                       5 non-null      int64  \n",
      " 1   Name                     4 non-null      object \n",
      " 2   Business effective date  4 non-null      object \n",
      " 3   Amount                   4 non-null      float64\n",
      " 4   Notes                    4 non-null      object \n",
      "dtypes: float64(1), int64(1), object(3)\n",
      "memory usage: 332.0+ bytes\n"
     ]
    }
   ],
   "source": [
    "df.info()"
   ]
  },
  {
   "cell_type": "code",
   "execution_count": 41,
   "id": "fa91ec6d-32c9-4899-aadb-e531a649fe24",
   "metadata": {},
   "outputs": [
    {
     "data": {
      "text/plain": [
       "ID                           int64\n",
       "Name                        object\n",
       "Business effective date     object\n",
       "Amount                     float64\n",
       "Notes                       object\n",
       "dtype: object"
      ]
     },
     "execution_count": 41,
     "metadata": {},
     "output_type": "execute_result"
    }
   ],
   "source": [
    "df.dtypes"
   ]
  },
  {
   "cell_type": "code",
   "execution_count": 43,
   "id": "67b8245a-e6e4-4bb2-9c39-0085fef5d861",
   "metadata": {},
   "outputs": [
    {
     "data": {
      "text/plain": [
       "dtype('O')"
      ]
     },
     "execution_count": 43,
     "metadata": {},
     "output_type": "execute_result"
    }
   ],
   "source": [
    "df['Business effective date'].dtype"
   ]
  },
  {
   "cell_type": "code",
   "execution_count": null,
   "id": "a86798a3-5378-4d3b-aec1-6d686f6db8aa",
   "metadata": {},
   "outputs": [],
   "source": []
  }
 ],
 "metadata": {
  "kernelspec": {
   "display_name": "Python [conda env:base] *",
   "language": "python",
   "name": "conda-base-py"
  },
  "language_info": {
   "codemirror_mode": {
    "name": "ipython",
    "version": 3
   },
   "file_extension": ".py",
   "mimetype": "text/x-python",
   "name": "python",
   "nbconvert_exporter": "python",
   "pygments_lexer": "ipython3",
   "version": "3.11.7"
  }
 },
 "nbformat": 4,
 "nbformat_minor": 5
}
